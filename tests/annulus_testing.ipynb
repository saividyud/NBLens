{
 "cells": [
  {
   "cell_type": "code",
   "execution_count": 5,
   "metadata": {},
   "outputs": [
    {
     "name": "stdout",
     "output_type": "stream",
     "text": [
      "The autoreload extension is already loaded. To reload it, use:\n",
      "  %reload_ext autoreload\n"
     ]
    }
   ],
   "source": [
    "%load_ext autoreload\n",
    "%autoreload 2\n",
    "%matplotlib inline\n",
    "\n",
    "import sys\n",
    "sys.path.append('..')\n",
    "\n",
    "from IRSMicroLensing import IRSCaustics as IRSC\n",
    "import numpy as np\n",
    "import numba as nb\n",
    "import matplotlib.pyplot as plt\n",
    "\n",
    "import warnings"
   ]
  },
  {
   "cell_type": "code",
   "execution_count": 86,
   "metadata": {},
   "outputs": [],
   "source": [
    "pixels = 1000\n",
    "ang_width = 5\n",
    "ang_res = ang_width / pixels\n",
    "\n",
    "x_rays = np.linspace(-ang_width/2 - ang_res/2 + ang_res/(2*1), ang_width/2 + ang_res/2 - ang_res/(2*1), 1*pixels)\n",
    "y_rays = np.linspace(-ang_width/2 - ang_res/2 + ang_res/(2*1), ang_width/2 + ang_res/2 - ang_res/(2*1), 1*pixels)\n",
    "\n",
    "x, y = np.meshgrid(x_rays, y_rays)"
   ]
  },
  {
   "cell_type": "code",
   "execution_count": 6,
   "metadata": {},
   "outputs": [
    {
     "name": "stdout",
     "output_type": "stream",
     "text": [
      "100\n",
      "[[ 0.75        0.60676275  0.23176275 -0.23176275 -0.60676275 -0.75\n",
      "  -0.60676275 -0.23176275  0.23176275  0.60676275]\n",
      " [ 0.80555556  0.65170813  0.24893036 -0.24893036 -0.65170813 -0.80555556\n",
      "  -0.65170813 -0.24893036  0.24893036  0.65170813]\n",
      " [ 0.86111111  0.69665352  0.26609797 -0.26609797 -0.69665352 -0.86111111\n",
      "  -0.69665352 -0.26609797  0.26609797  0.69665352]\n",
      " [ 0.91666667  0.74159891  0.28326558 -0.28326558 -0.74159891 -0.91666667\n",
      "  -0.74159891 -0.28326558  0.28326558  0.74159891]\n",
      " [ 0.97222222  0.7865443   0.30043319 -0.30043319 -0.7865443  -0.97222222\n",
      "  -0.7865443  -0.30043319  0.30043319  0.7865443 ]\n",
      " [ 1.02777778  0.83148969  0.3176008  -0.3176008  -0.83148969 -1.02777778\n",
      "  -0.83148969 -0.3176008   0.3176008   0.83148969]\n",
      " [ 1.08333333  0.87643508  0.33476841 -0.33476841 -0.87643508 -1.08333333\n",
      "  -0.87643508 -0.33476841  0.33476841  0.87643508]\n",
      " [ 1.13888889  0.92138047  0.35193602 -0.35193602 -0.92138047 -1.13888889\n",
      "  -0.92138047 -0.35193602  0.35193602  0.92138047]\n",
      " [ 1.19444444  0.96632585  0.36910363 -0.36910363 -0.96632585 -1.19444444\n",
      "  -0.96632585 -0.36910363  0.36910363  0.96632585]\n",
      " [ 1.25        1.01127124  0.38627124 -0.38627124 -1.01127124 -1.25\n",
      "  -1.01127124 -0.38627124  0.38627124  1.01127124]]\n"
     ]
    }
   ],
   "source": [
    "d = 0.5\n",
    "num_rs = 10\n",
    "num_thetas = 10\n",
    "\n",
    "rs = np.linspace(1-(d/2), 1+(d/2), num_rs).reshape(-1, 1)\n",
    "thetas = np.linspace(0, 2*np.pi - (2*np.pi/num_thetas), num_thetas).reshape(1, -1)\n",
    "\n",
    "x = np.dot(rs, np.cos(thetas))\n",
    "y = np.dot(rs, np.sin(thetas))\n",
    "\n",
    "print(np.prod(np.shape(x)))\n",
    "\n",
    "print(x)"
   ]
  },
  {
   "cell_type": "code",
   "execution_count": 4,
   "metadata": {},
   "outputs": [
    {
     "data": {
      "image/png": "[encoded data removed]",
      "text/plain": [
       "<Figure size 1000x800 with 1 Axes>"
      ]
     },
     "metadata": {},
     "output_type": "display_data"
    }
   ],
   "source": [
    "fig = plt.figure(figsize=(10, 8))\n",
    "ax = fig.add_subplot()\n",
    "\n",
    "ax.scatter(x, y)\n",
    "ax.set_aspect('equal')\n",
    "\n",
    "plt.show()"
   ]
  },
  {
   "cell_type": "code",
   "execution_count": 128,
   "metadata": {},
   "outputs": [],
   "source": [
    "lens_att = [\n",
    "    [0, 0, 0.01, 1],\n",
    "    [0.2, 0, 0.01, 0.001]\n",
    "]\n",
    "\n",
    "lens_att = np.array(lens_att)\n",
    "\n",
    "L = np.shape(lens_att)[0]\n",
    "\n",
    "# Total mass of lens objects\n",
    "total_M = np.sum(lens_att[:, 3])"
   ]
  },
  {
   "cell_type": "code",
   "execution_count": 129,
   "metadata": {},
   "outputs": [],
   "source": [
    "z = x + y*1j # [theta_e] NxN\n",
    "zbar = np.conj(z) # [theta_e] NxN\n",
    "\n",
    "# Translating into complex coordinates (lens coordinates)\n",
    "zm = lens_att[:, 0] + lens_att[:, 1]*1j # [theta_e] 1xL\n",
    "epsilon = lens_att[:, 3] / total_M # [dimensionless] 1xL\n",
    "\n",
    "zmbar = np.conj(zm) # [theta_e] 1xL\n",
    "\n",
    "with warnings.catch_warnings():\n",
    "    warnings.simplefilter('ignore')\n",
    "    sums = np.zeros(shape=np.shape(zbar), dtype=np.complex128)\n",
    "    sum = IRSMLS.IRSMain.lens_eq(L, sums, zbar, zmbar, epsilon)\n",
    "\n",
    "zeta = z - sum # [theta_e]\n",
    "\n",
    "# Extracting positions from complex number\n",
    "xs = np.real(zeta) # [theta_e]\n",
    "ys = np.imag(zeta) # [theta_e]"
   ]
  },
  {
   "cell_type": "code",
   "execution_count": 130,
   "metadata": {},
   "outputs": [],
   "source": [
    "fig = plt.figure(figsize=(10, 8))\n",
    "ax = fig.add_subplot()\n",
    "\n",
    "ax.scatter(x, y)\n",
    "ax.scatter(xs, ys)\n",
    "ax.set_aspect('equal')\n",
    "ax.set_xlim(-2, 2)\n",
    "ax.set_ylim(-2, 2)\n",
    "\n",
    "plt.show()"
   ]
  },
  {
   "cell_type": "code",
   "execution_count": 118,
   "metadata": {},
   "outputs": [],
   "source": [
    "pixels = 3000\n",
    "ang_width = 0.1\n",
    "ang_res = ang_width / pixels\n",
    "\n",
    "x_pixels = np.linspace(-ang_width/2, ang_width/2, pixels)\n",
    "y_pixels = np.linspace(-ang_width/2, ang_width/2, pixels)\n",
    "X_p, Y_p = np.meshgrid(x_pixels, y_pixels)"
   ]
  },
  {
   "cell_type": "code",
   "execution_count": 119,
   "metadata": {},
   "outputs": [],
   "source": [
    "bool_x = (xs < -ang_width/2) | (xs > ang_width/2)\n",
    "indx = np.where(bool_x, np.nan, xs)\n",
    "\n",
    "bool_y = (ys < -ang_width/2) | (ys > ang_width/2)\n",
    "indy = np.where(bool_y, np.nan, ys)\n",
    "\n",
    "indx = indx/ang_res + pixels/2\n",
    "indy = indy/ang_res + pixels/2\n",
    "\n",
    "bool_arr_x = np.isnan(indx)\n",
    "bool_arr_y = np.isnan(indy)\n",
    "\n",
    "# Replacing nan values with some out of bounds value and making the numbers into integers\n",
    "indx_nonan = np.where(bool_arr_x, pixels*2, indx)\n",
    "indy_nonan = np.where(bool_arr_y, pixels*2, indy)\n",
    "\n",
    "indx = np.where(bool_arr_x, int(pixels*2), indx_nonan.astype(int))\n",
    "indy = np.where(bool_arr_y, int(pixels*2), indy_nonan.astype(int))\n",
    "\n",
    "# Combining indx and indy into matrix of 2-element arrays (x and y coordinates)\n",
    "comb_mat = np.stack((indx, indy), axis=2)\n",
    "\n",
    "# repetitions, counts = np.unique(ar=comb_mat.reshape(-1, 2), axis=0, return_counts=True)\n",
    "stacked_mat = comb_mat.reshape(-1, 2)\n",
    "repetitions, counts = IRSMLS.IRSCaustics.calc_uniques(stacked_mat)"
   ]
  },
  {
   "cell_type": "code",
   "execution_count": 120,
   "metadata": {},
   "outputs": [],
   "source": [
    "def calc_mags1(pixels, magnifications, repetitions, counts):\n",
    "    '''\n",
    "    Calculates magnifications using Numba's jit method with C-like compiling for faster computing.\n",
    "\n",
    "    Parameters\n",
    "    ----------\n",
    "    pixels : int32\n",
    "    magnifications : 2D int64 Numpy array\n",
    "    repetitions : 2D int64 Numpy array\n",
    "    counts : 1D int64 Numpy array\n",
    "\n",
    "    Returns\n",
    "    -------\n",
    "    magnifications : 2D int64 Numpy array\n",
    "    '''\n",
    "    for i, N_pix in enumerate(counts):\n",
    "        if pixels*2 not in repetitions[i]:\n",
    "            magnifications[repetitions[i, 0], repetitions[i, 1]] += N_pix\n",
    "\n",
    "    return magnifications\n",
    "\n",
    "# @nb.jit(nb.int64[:, :](nb.int32, nb.float64[:, :], nb.int64[:, :], nb.int64[:]), nopython=True, fastmath=True)\n",
    "def calc_mags2(pixels, magnifications, repetitions, counts):\n",
    "    '''\n",
    "    Calculates magnifications using Numba's jit method with C-like compiling for faster computing.\n",
    "\n",
    "    Parameters\n",
    "    ----------\n",
    "    pixels : int32\n",
    "    magnifications : 2D int64 Numpy array\n",
    "    repetitions : 2D int64 Numpy array\n",
    "    counts : 1D int64 Numpy array\n",
    "\n",
    "    Returns\n",
    "    -------\n",
    "    magnifications : 2D int64 Numpy array\n",
    "    '''\n",
    "    A_im = 2*np.pi*d\n",
    "    N_im = np.prod(np.shape(x))\n",
    "    sigma_im = N_im/A_im\n",
    "\n",
    "    print(sigma_im)\n",
    "\n",
    "    A_pix = ang_res**2\n",
    "    print(A_pix)\n",
    "\n",
    "    for i, N_pix in enumerate(counts):\n",
    "        if pixels*2 not in repetitions[i]: \n",
    "            magnifications[repetitions[i, 0], repetitions[i, 1]] += (N_pix/A_pix)/sigma_im\n",
    "            # magnifications[repetitions[i, 0], repetitions[i, 1]] += N_pix\n",
    "\n",
    "    return magnifications"
   ]
  },
  {
   "cell_type": "code",
   "execution_count": 121,
   "metadata": {},
   "outputs": [
    {
     "name": "stdout",
     "output_type": "stream",
     "text": [
      "[[0 0 0 ... 0 0 0]\n",
      " [0 0 0 ... 0 0 0]\n",
      " [0 0 0 ... 0 0 0]\n",
      " ...\n",
      " [0 0 0 ... 0 0 0]\n",
      " [0 0 0 ... 0 0 0]\n",
      " [0 0 0 ... 0 0 0]]\n",
      "3183098.8618379068\n",
      "1.1111111111111113e-09\n",
      "[[0. 0. 0. ... 0. 0. 0.]\n",
      " [0. 0. 0. ... 0. 0. 0.]\n",
      " [0. 0. 0. ... 0. 0. 0.]\n",
      " ...\n",
      " [0. 0. 0. ... 0. 0. 0.]\n",
      " [0. 0. 0. ... 0. 0. 0.]\n",
      " [0. 0. 0. ... 0. 0. 0.]]\n"
     ]
    }
   ],
   "source": [
    "magnifications_1 = np.zeros(shape=(pixels, pixels), dtype=np.int64)\n",
    "magnifications_1 = calc_mags1(pixels, magnifications_1, repetitions, counts)\n",
    "\n",
    "print(magnifications_1)\n",
    "\n",
    "magnifications_2 = np.zeros(shape=(pixels, pixels), dtype=np.float64)\n",
    "magnifications_2 = calc_mags2(pixels, magnifications_2, repetitions, counts)\n",
    "\n",
    "print(magnifications_2)"
   ]
  },
  {
   "cell_type": "code",
   "execution_count": 122,
   "metadata": {},
   "outputs": [],
   "source": [
    "magnifications_log_1 = np.where(magnifications_1 == 0, 0.1, magnifications_1)\n",
    "magnifications_log_1 = np.log10(magnifications_log_1)\n",
    "magnifications_log_1 = np.where(magnifications_log_1 == -1, 0, magnifications_log_1)\n",
    "\n",
    "magnifications_log_2 = np.where(magnifications_2 == 0, 0.1, magnifications_2)\n",
    "magnifications_log_2 = np.log10(magnifications_log_2)\n",
    "magnifications_log_2 = np.where(magnifications_log_2 == -1, 0, magnifications_log_2)"
   ]
  },
  {
   "cell_type": "code",
   "execution_count": 123,
   "metadata": {},
   "outputs": [],
   "source": [
    "fig1 = plt.figure(figsize=(10, 8))\n",
    "ax1 = fig1.add_subplot()\n",
    "\n",
    "ax1.imshow(magnifications_1, vmin=0, extent=[-ang_width/2, ang_width/2, -ang_width/2, ang_width/2])\n",
    "\n",
    "fig2 = plt.figure(figsize=(10, 8))\n",
    "ax2 = fig2.add_subplot()\n",
    "\n",
    "ax2.imshow(magnifications_log_2, vmin=0, extent=[-ang_width/2, ang_width/2, -ang_width/2, ang_width/2])\n",
    "\n",
    "plt.show()"
   ]
  },
  {
   "cell_type": "code",
   "execution_count": null,
   "metadata": {},
   "outputs": [
    {
     "name": "stdout",
     "output_type": "stream",
     "text": [
      "Creating mesh grid: 0.687 seconds\n",
      "Calculating source pixels: 2.337 seconds\n",
      "Calculating indices of translated pixel after deflection: 0.51 seconds\n",
      "Calculating translated pixels: 1.592 seconds\n",
      "Finding pixel repetitions and counts: 0.257 seconds\n",
      "Incrementing pixel magnifications based on counts and repetitions: 0.107 seconds\n",
      "Plotting magnification map: 0.184 seconds\n",
      "---------------------\n",
      "Total time: 5.8 seconds\n"
     ]
    }
   ],
   "source": [
    "pixels = 1000\n",
    "ang_width = 5\n",
    "rays_per_pixel = 4\n",
    "\n",
    "lens_att = [\n",
    "    [-0.5, 0, 0.01, 1],\n",
    "    [0.5, 0, 0.01, 1]\n",
    "]\n",
    "\n",
    "caus = IRSMLS.IRSCaustics(pixels=pixels, ang_width=ang_width, lens_att=lens_att, rays_per_pixel=rays_per_pixel, annulus=d)\n",
    "caus.plot(save_plot=False, show_lenses=True)\n",
    "\n",
    "plt.show()"
   ]
  },
  {
   "cell_type": "code",
   "execution_count": null,
   "metadata": {},
   "outputs": [],
   "source": []
  }
 ],
 "metadata": {
  "kernelspec": {
   "display_name": ".venv",
   "language": "python",
   "name": "python3"
  },
  "language_info": {
   "codemirror_mode": {
    "name": "ipython",
    "version": 3
   },
   "file_extension": ".py",
   "mimetype": "text/x-python",
   "name": "python",
   "nbconvert_exporter": "python",
   "pygments_lexer": "ipython3",
   "version": "3.10.0"
  }
 },
 "nbformat": 4,
 "nbformat_minor": 2
}
