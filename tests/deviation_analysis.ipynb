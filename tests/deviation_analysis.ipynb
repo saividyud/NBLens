{
 "cells": [
  {
   "cell_type": "markdown",
   "id": "65a1c827",
   "metadata": {},
   "source": [
    "### Subtract convolved single lens magnification map (analytic) from this and then plot fractional deviations:\n",
    "- Want to explore how small of a mass ratio you can detect the second planet\n",
    "- Plot difference of this magnification map and most massive planet and star\n",
    "- See how small you can make the small planet before it is nondetectable\n",
    "- Later: add additional planets\n",
    "\n",
    "### (Triple - binary) / binary\n",
    "- Plot grid of changing seperation and planet mass ratio to see how deviation changes\n",
    "- Later on explore multiple planets and then adding moons...\n",
    "- Later later on add in orbital motion and see what happens\n",
    "\n",
    "### Trajectories:\n",
    "- Through fractional deviation map"
   ]
  },
  {
   "cell_type": "markdown",
   "id": "f4e9ac2b",
   "metadata": {},
   "source": [
    "## Importing relevant libraries and timing custom library imports"
   ]
  },
  {
   "cell_type": "code",
   "execution_count": 1,
   "id": "b6a36c0d",
   "metadata": {},
   "outputs": [
    {
     "name": "stdout",
     "output_type": "stream",
     "text": [
      "Import time: 4.99 seconds\n",
      "Import time: 0.00 seconds\n",
      "Import time: 0.02 seconds\n"
     ]
    }
   ],
   "source": [
    "%matplotlib tk\n",
    "\n",
    "%load_ext autoreload\n",
    "%autoreload 2\n",
    "\n",
    "import time as t\n",
    "\n",
    "import numpy as np\n",
    "import matplotlib.pyplot as plt\n",
    "\n",
    "import matplotlib.patches as patches\n",
    "import matplotlib.collections as collections\n",
    "\n",
    "import sys\n",
    "sys.path.append('..')\n",
    "\n",
    "# Timing imports\n",
    "start = t.time()\n",
    "from IRSMicroLensing import IRSCaustics as IRSC\n",
    "print(f\"Import time: {t.time() - start:.2f} seconds\")\n",
    "\n",
    "start = t.time()\n",
    "from IRSMicroLensing import IRSFunctions as IRSF\n",
    "print(f\"Import time: {t.time() - start:.2f} seconds\")\n",
    "\n",
    "start = t.time()\n",
    "import VBMicrolensing\n",
    "print(f\"Import time: {t.time() - start:.2f} seconds\")"
   ]
  },
  {
   "cell_type": "markdown",
   "id": "7ec883a0",
   "metadata": {},
   "source": [
    "## Initializing VBMicrolensing"
   ]
  },
  {
   "cell_type": "code",
   "execution_count": 2,
   "id": "f4034656",
   "metadata": {},
   "outputs": [],
   "source": [
    "VBM = VBMicrolensing.VBMicrolensing()\n",
    "\n",
    "# Set relative accuracy\n",
    "VBM.RelTol = 1e-03\n",
    "# Set accuracy\n",
    "VBM.Tol=1e-03"
   ]
  },
  {
   "cell_type": "markdown",
   "id": "a28a998d",
   "metadata": {},
   "source": [
    "## Defining binary lens attributes and finding the most optimal angular width and thickness to find all central caustics"
   ]
  },
  {
   "cell_type": "code",
   "execution_count": 4,
   "id": "ae66576b",
   "metadata": {},
   "outputs": [
    {
     "name": "stdout",
     "output_type": "stream",
     "text": [
      "Angular width: 0.07680319680319682\n",
      "Thickness: 0.07680319680319682\n"
     ]
    }
   ],
   "source": [
    "# Big planet position\n",
    "s1 = 0.8\n",
    "alpha1 = 0\n",
    "\n",
    "# Small planet position\n",
    "s2 = s1\n",
    "alpha2 = 30\n",
    "\n",
    "# Small planet mass ratios\n",
    "# upper_bound = -7\n",
    "# lower_bound = -16\n",
    "\n",
    "upper_bound = 10\n",
    "lower_bound = 1\n",
    "\n",
    "# Colormap\n",
    "cmap = 'gray'\n",
    "\n",
    "# Defining binary lens parameters\n",
    "binary_lens_attributes = [\n",
    "    [0, 0, 0.0001, 1],\n",
    "    [s1*np.cos(np.deg2rad(alpha1)), s1*np.sin(np.deg2rad(alpha1)), 0.0001, 1e-3]\n",
    "]\n",
    "\n",
    "# Creating a list of all lenses\n",
    "complete_lens_attributes = binary_lens_attributes.copy()\n",
    "\n",
    "for i in range(upper_bound, lower_bound, -1):\n",
    "    complete_lens_attributes.append(\n",
    "        [s2*np.cos(np.deg2rad(alpha2)), s2*np.sin(np.deg2rad(alpha2)), 0.01, i * 1e-4] # Small mass\n",
    "    )\n",
    "\n",
    "# Finding best angular width and thickness\n",
    "ang_width, thickness, caustic_cusps = IRSC.IRSCaustics.ang_width_thickness_calculator(lens_att=complete_lens_attributes)\n",
    "\n",
    "print(f\"Angular width: {ang_width}\")\n",
    "print(f\"Thickness: {thickness}\")"
   ]
  },
  {
   "cell_type": "markdown",
   "id": "8e82abd3",
   "metadata": {},
   "source": [
    "## Creating a list of lens attributes that includes each trinary configuration"
   ]
  },
  {
   "cell_type": "code",
   "execution_count": 5,
   "id": "bd8a423e",
   "metadata": {},
   "outputs": [
    {
     "name": "stdout",
     "output_type": "stream",
     "text": [
      "[[0, 0, 0.0001, 1], [np.float64(0.8), np.float64(0.0), 0.0001, 0.001], [np.float64(0.692820323027551), np.float64(0.39999999999999997), 0.01, 0.001]]\n",
      "[[0, 0, 0.0001, 1], [np.float64(0.8), np.float64(0.0), 0.0001, 0.001], [np.float64(0.692820323027551), np.float64(0.39999999999999997), 0.01, 0.0009000000000000001]]\n",
      "[[0, 0, 0.0001, 1], [np.float64(0.8), np.float64(0.0), 0.0001, 0.001], [np.float64(0.692820323027551), np.float64(0.39999999999999997), 0.01, 0.0008]]\n",
      "[[0, 0, 0.0001, 1], [np.float64(0.8), np.float64(0.0), 0.0001, 0.001], [np.float64(0.692820323027551), np.float64(0.39999999999999997), 0.01, 0.0007]]\n",
      "[[0, 0, 0.0001, 1], [np.float64(0.8), np.float64(0.0), 0.0001, 0.001], [np.float64(0.692820323027551), np.float64(0.39999999999999997), 0.01, 0.0006000000000000001]]\n",
      "[[0, 0, 0.0001, 1], [np.float64(0.8), np.float64(0.0), 0.0001, 0.001], [np.float64(0.692820323027551), np.float64(0.39999999999999997), 0.01, 0.0005]]\n",
      "[[0, 0, 0.0001, 1], [np.float64(0.8), np.float64(0.0), 0.0001, 0.001], [np.float64(0.692820323027551), np.float64(0.39999999999999997), 0.01, 0.0004]]\n",
      "[[0, 0, 0.0001, 1], [np.float64(0.8), np.float64(0.0), 0.0001, 0.001], [np.float64(0.692820323027551), np.float64(0.39999999999999997), 0.01, 0.00030000000000000003]]\n",
      "[[0, 0, 0.0001, 1], [np.float64(0.8), np.float64(0.0), 0.0001, 0.001], [np.float64(0.692820323027551), np.float64(0.39999999999999997), 0.01, 0.0002]]\n",
      "Number of trinary systems: 9\n"
     ]
    }
   ],
   "source": [
    "# Probing mass space to see what the smallest mass detectable is\n",
    "trinary_lens_attributes_list = []\n",
    "\n",
    "for i in range(upper_bound, lower_bound, -1):\n",
    "    trinary = binary_lens_attributes.copy()\n",
    "    trinary.append(\n",
    "        [s2*np.cos(np.deg2rad(alpha2)), s2*np.sin(np.deg2rad(alpha2)), 0.01, i * 1e-4] # Small mass\n",
    "    )\n",
    "\n",
    "    trinary_lens_attributes_list.append(trinary)\n",
    "\n",
    "    print(trinary)\n",
    "\n",
    "print(f'Number of trinary systems: {len(trinary_lens_attributes_list)}')"
   ]
  },
  {
   "cell_type": "markdown",
   "id": "bbd28b2f",
   "metadata": {},
   "source": [
    "## Calculating binary magnification map"
   ]
  },
  {
   "cell_type": "code",
   "execution_count": 6,
   "id": "5607319b",
   "metadata": {},
   "outputs": [
    {
     "name": "stdout",
     "output_type": "stream",
     "text": [
      "Creating mesh grid: 0.171 seconds\n",
      "Calculating source pixels: 1.254 seconds\n",
      "Calculating indices of translated pixel after deflection: 0.332 seconds\n",
      "Calculating translated pixels: 1.021 seconds\n",
      "Finding pixel repetitions and counts: 0.27 seconds\n",
      "Incrementing pixel magnifications based on counts and repetitions: 0.098 seconds\n",
      "Plotting magnification map: 0.152 seconds\n",
      "---------------------\n",
      "Total time: 3.308 seconds\n"
     ]
    },
    {
     "name": "stderr",
     "output_type": "stream",
     "text": [
      "/Users/saividyud/Documents/GitHub/NBLens/tests/../IRSMicroLensing/IRSCaustics.py:494: RuntimeWarning: divide by zero encountered in log10\n",
      "  self.magnifications_log = np.log10(magnifications)\n"
     ]
    }
   ],
   "source": [
    "binary_param_dict = {'pixels': 1000, 'ang_width': ang_width, 'lens_att': binary_lens_attributes, 'thickness': thickness, 'num_r': 12000, 'num_theta': 3000}\n",
    "binary_mag_map = IRSC.IRSCaustics(annulus_param_dict=binary_param_dict)\n",
    "\n",
    "binary_magnifications = binary_mag_map.plot(show_lenses=False, cmap=cmap, show_plot=True, cm_offset='auto', show_dev=False, save_plot=False)\n",
    "\n",
    "binary_parameters = [item for sublist in binary_lens_attributes for idx, item in enumerate(sublist) if idx != 2]\n",
    "VBM.SetLensGeometry(binary_parameters)\n",
    "binary_caustics = np.array(VBM.Multicaustics()[-1])\n",
    "# binary_caustics = np.array(binary_caustics[-1])\n",
    "\n",
    "plt.show()"
   ]
  },
  {
   "cell_type": "markdown",
   "id": "e5e7b525",
   "metadata": {},
   "source": [
    "## Single lens analytic magnification map"
   ]
  },
  {
   "cell_type": "code",
   "execution_count": null,
   "id": "14389cfe",
   "metadata": {},
   "outputs": [],
   "source": [
    "fig = plt.figure(figsize=(10, 8))\n",
    "ax = fig.add_subplot()\n",
    "\n",
    "img = ax.imshow(np.log10(binary_mag_map.a_mags), cmap=cmap, extent=[-binary_mag_map.ang_width/2, binary_mag_map.ang_width/2, -binary_mag_map.ang_width/2, binary_mag_map.ang_width/2])\n",
    "plt.colorbar(img, ax=ax, label='$log_{10}$ Magnification')\n",
    "\n",
    "ax.set_title('Magnification Map of Single Lens')\n",
    "ax.set_xlabel('X [$\\\\theta_E$]')\n",
    "ax.set_ylabel('Y [$\\\\theta_E]$')\n",
    "\n",
    "# fig.savefig('Single Lens Magnification Map.png', dpi=500)\n",
    "\n",
    "plt.show()"
   ]
  },
  {
   "cell_type": "markdown",
   "id": "015e324f",
   "metadata": {},
   "source": [
    "## Single lens ray-shooting magnification map"
   ]
  },
  {
   "cell_type": "code",
   "execution_count": 9,
   "id": "0641aa27",
   "metadata": {},
   "outputs": [
    {
     "name": "stdout",
     "output_type": "stream",
     "text": [
      "Creating mesh grid: 0.088 seconds\n",
      "Calculating source pixels: 1.33 seconds\n",
      "Calculating indices of translated pixel after deflection: 0.428 seconds\n",
      "Calculating translated pixels: 1.076 seconds\n",
      "Finding pixel repetitions and counts: 0.315 seconds\n",
      "Incrementing pixel magnifications based on counts and repetitions: 0.159 seconds\n",
      "Plotting magnification map: 0.097 seconds\n",
      "---------------------\n",
      "Total time: 3.506 seconds\n"
     ]
    },
    {
     "name": "stderr",
     "output_type": "stream",
     "text": [
      "/Users/saividyud/Documents/GitHub/NBLens/tests/../IRSMicroLensing/IRSCaustics.py:490: RuntimeWarning: divide by zero encountered in log10\n",
      "  self.magnifications_log = np.log10(magnifications)\n"
     ]
    }
   ],
   "source": [
    "single_param_dict = {'pixels': 1000, 'ang_width': ang_width, 'lens_att': [binary_lens_attributes[0]], 'thickness': thickness, 'num_r': 12000, 'num_theta': 3000}\n",
    "single_mag_map = IRSC.IRSCaustics(annulus_param_dict=single_param_dict)\n",
    "\n",
    "single_magnifications = single_mag_map.plot(show_lenses=False, cmap=cmap, show_plot=True, cm_offset='auto', show_dev=False, save_plot=False)\n",
    "\n",
    "plt.show()"
   ]
  },
  {
   "cell_type": "code",
   "execution_count": 40,
   "id": "4fac84bb",
   "metadata": {},
   "outputs": [
    {
     "name": "stderr",
     "output_type": "stream",
     "text": [
      "/var/folders/39/mb5cwg0x4h18n1y377g5rs9c0000gn/T/ipykernel_76228/990926543.py:1: RuntimeWarning: divide by zero encountered in divide\n",
      "  deviations = (binary_magnifications - single_magnifications) / single_magnifications\n",
      "/var/folders/39/mb5cwg0x4h18n1y377g5rs9c0000gn/T/ipykernel_76228/990926543.py:1: RuntimeWarning: invalid value encountered in divide\n",
      "  deviations = (binary_magnifications - single_magnifications) / single_magnifications\n"
     ]
    }
   ],
   "source": [
    "deviations = (binary_magnifications - single_magnifications) / single_magnifications\n",
    "\n",
    "fig = plt.figure(figsize=(10, 8))\n",
    "ax = fig.add_subplot()\n",
    "img = ax.imshow(deviations, cmap=cmap, extent=[-binary_mag_map.ang_width/2, binary_mag_map.ang_width/2, -binary_mag_map.ang_width/2, binary_mag_map.ang_width/2])\n",
    "\n",
    "plt.show()"
   ]
  },
  {
   "cell_type": "markdown",
   "id": "de806cb2",
   "metadata": {},
   "source": [
    "## Defining source profile for convolution"
   ]
  },
  {
   "cell_type": "code",
   "execution_count": 28,
   "id": "5c102ed0",
   "metadata": {},
   "outputs": [],
   "source": [
    "radius = 1e-3\n",
    "LD = 0.5\n",
    "\n",
    "source_profile = IRSF.IRSFunctions.source_profile(ang_res=binary_mag_map.param_dict['ang_res'], rad=radius, profile_type='LD', LD=LD)\n",
    "\n",
    "fig = plt.figure(figsize=(10, 8))\n",
    "ax = fig.add_subplot()\n",
    "img = ax.imshow(source_profile, cmap='afmhot', extent=[-radius, radius, -radius, radius])\n",
    "plt.colorbar(img, ax=ax, label='Source Brightness')\n",
    "\n",
    "ax.set_xlabel('X [$\\\\theta_E$]')\n",
    "ax.set_ylabel('Y [$\\\\theta_E$]')\n",
    "ax.set_title('Source Profile')\n",
    "\n",
    "ax.set_aspect('equal')\n",
    "\n",
    "plt.show()"
   ]
  },
  {
   "cell_type": "markdown",
   "id": "1d3fccbe",
   "metadata": {},
   "source": [
    "## Convolving binary brightnesses with source profile"
   ]
  },
  {
   "cell_type": "code",
   "execution_count": 15,
   "id": "83ded799",
   "metadata": {},
   "outputs": [
    {
     "name": "stdout",
     "output_type": "stream",
     "text": [
      "Convolving source profile with magnification map: 0.032 seconds\n"
     ]
    }
   ],
   "source": [
    "convolved_binary_brightnesses = binary_mag_map.convolve(source_profile=source_profile)\n",
    "\n",
    "fig = plt.figure(figsize=(10, 8))\n",
    "ax = fig.add_subplot()\n",
    "img = ax.imshow(convolved_binary_brightnesses, cmap=cmap, extent=[-binary_mag_map.ang_width/2, binary_mag_map.ang_width/2, -binary_mag_map.ang_width/2, binary_mag_map.ang_width/2])\n",
    "plt.colorbar(img, ax=ax, label='Convolved Brightness')\n",
    "\n",
    "ax.set_title('Convolved Brightnesses of Binary Lens')\n",
    "ax.set_xlabel('X [$\\\\theta_E$]')\n",
    "ax.set_ylabel('Y [$\\\\theta_E]$')\n",
    "\n",
    "plt.show()"
   ]
  },
  {
   "cell_type": "markdown",
   "id": "f1adc395",
   "metadata": {},
   "source": [
    "## Calculating convolved brightnesses and their deviation from binary brightness for each trinary configuration"
   ]
  },
  {
   "cell_type": "code",
   "execution_count": 16,
   "id": "b559be84",
   "metadata": {},
   "outputs": [
    {
     "name": "stdout",
     "output_type": "stream",
     "text": [
      "\n",
      "Calculating trinary lens magnification map 1/9\n",
      "Creating mesh grid: 0.081 seconds\n",
      "Calculating source pixels: 1.341 seconds\n",
      "Calculating indices of translated pixel after deflection: 0.377 seconds\n",
      "Calculating translated pixels: 0.997 seconds\n",
      "Finding pixel repetitions and counts: 0.27 seconds\n",
      "Incrementing pixel magnifications based on counts and repetitions: 0.185 seconds\n",
      "Calculating analytic magnification map: 0.031 seconds\n",
      "---------------------\n",
      "Total time: 3.298 seconds\n",
      "Convolving source profile with magnification map: 0.026 seconds\n",
      "VBMicrolensing time: 0.001 seconds\n",
      "\n",
      "Calculating trinary lens magnification map 2/9\n",
      "Creating mesh grid: 0.077 seconds\n"
     ]
    },
    {
     "name": "stderr",
     "output_type": "stream",
     "text": [
      "/Users/saividyud/Documents/GitHub/NBLens/tests/../IRSMicroLensing/IRSCaustics.py:490: RuntimeWarning: divide by zero encountered in log10\n",
      "  self.magnifications_log = np.log10(magnifications)\n"
     ]
    },
    {
     "name": "stdout",
     "output_type": "stream",
     "text": [
      "Calculating source pixels: 0.865 seconds\n",
      "Calculating indices of translated pixel after deflection: 0.431 seconds\n",
      "Calculating translated pixels: 0.866 seconds\n",
      "Finding pixel repetitions and counts: 0.282 seconds\n",
      "Incrementing pixel magnifications based on counts and repetitions: 0.095 seconds\n",
      "Calculating analytic magnification map: 0.034 seconds\n",
      "---------------------\n",
      "Total time: 2.659 seconds\n"
     ]
    },
    {
     "name": "stderr",
     "output_type": "stream",
     "text": [
      "/Users/saividyud/Documents/GitHub/NBLens/tests/../IRSMicroLensing/IRSCaustics.py:490: RuntimeWarning: divide by zero encountered in log10\n",
      "  self.magnifications_log = np.log10(magnifications)\n"
     ]
    },
    {
     "name": "stdout",
     "output_type": "stream",
     "text": [
      "Convolving source profile with magnification map: 0.027 seconds\n",
      "VBMicrolensing time: 0.005 seconds\n",
      "\n",
      "Calculating trinary lens magnification map 3/9\n",
      "Creating mesh grid: 0.078 seconds\n",
      "Calculating source pixels: 1.053 seconds\n",
      "Calculating indices of translated pixel after deflection: 0.368 seconds\n",
      "Calculating translated pixels: 1.129 seconds\n",
      "Finding pixel repetitions and counts: 0.323 seconds\n",
      "Incrementing pixel magnifications based on counts and repetitions: 0.181 seconds\n",
      "Calculating analytic magnification map: 0.033 seconds\n",
      "---------------------\n",
      "Total time: 3.175 seconds\n",
      "Convolving source profile with magnification map: 0.027 seconds\n",
      "VBMicrolensing time: 0.002 seconds\n",
      "\n",
      "Calculating trinary lens magnification map 4/9\n"
     ]
    },
    {
     "name": "stderr",
     "output_type": "stream",
     "text": [
      "/Users/saividyud/Documents/GitHub/NBLens/tests/../IRSMicroLensing/IRSCaustics.py:490: RuntimeWarning: divide by zero encountered in log10\n",
      "  self.magnifications_log = np.log10(magnifications)\n"
     ]
    },
    {
     "name": "stdout",
     "output_type": "stream",
     "text": [
      "Creating mesh grid: 0.074 seconds\n",
      "Calculating source pixels: 1.055 seconds\n",
      "Calculating indices of translated pixel after deflection: 0.37 seconds\n",
      "Calculating translated pixels: 0.943 seconds\n",
      "Finding pixel repetitions and counts: 0.343 seconds\n",
      "Incrementing pixel magnifications based on counts and repetitions: 0.175 seconds\n",
      "Calculating analytic magnification map: 0.039 seconds\n",
      "---------------------\n",
      "Total time: 3.009 seconds\n",
      "Convolving source profile with magnification map: 0.028 seconds\n",
      "VBMicrolensing time: 0.002 seconds\n",
      "\n",
      "Calculating trinary lens magnification map 5/9\n",
      "Creating mesh grid: 0.077 seconds\n"
     ]
    },
    {
     "name": "stderr",
     "output_type": "stream",
     "text": [
      "/Users/saividyud/Documents/GitHub/NBLens/tests/../IRSMicroLensing/IRSCaustics.py:490: RuntimeWarning: divide by zero encountered in log10\n",
      "  self.magnifications_log = np.log10(magnifications)\n"
     ]
    },
    {
     "name": "stdout",
     "output_type": "stream",
     "text": [
      "Calculating source pixels: 1.192 seconds\n",
      "Calculating indices of translated pixel after deflection: 0.373 seconds\n",
      "Calculating translated pixels: 0.914 seconds\n",
      "Finding pixel repetitions and counts: 0.223 seconds\n",
      "Incrementing pixel magnifications based on counts and repetitions: 0.096 seconds\n",
      "Calculating analytic magnification map: 0.03 seconds\n",
      "---------------------\n",
      "Total time: 2.917 seconds\n"
     ]
    },
    {
     "name": "stderr",
     "output_type": "stream",
     "text": [
      "/Users/saividyud/Documents/GitHub/NBLens/tests/../IRSMicroLensing/IRSCaustics.py:490: RuntimeWarning: divide by zero encountered in log10\n",
      "  self.magnifications_log = np.log10(magnifications)\n"
     ]
    },
    {
     "name": "stdout",
     "output_type": "stream",
     "text": [
      "Convolving source profile with magnification map: 0.028 seconds\n",
      "VBMicrolensing time: 0.002 seconds\n",
      "\n",
      "Calculating trinary lens magnification map 6/9\n",
      "Creating mesh grid: 0.076 seconds\n",
      "Calculating source pixels: 1.055 seconds\n",
      "Calculating indices of translated pixel after deflection: 0.37 seconds\n",
      "Calculating translated pixels: 0.96 seconds\n",
      "Finding pixel repetitions and counts: 0.233 seconds\n",
      "Incrementing pixel magnifications based on counts and repetitions: 0.095 seconds\n",
      "Calculating analytic magnification map: 0.045 seconds\n",
      "---------------------\n",
      "Total time: 2.843 seconds\n"
     ]
    },
    {
     "name": "stderr",
     "output_type": "stream",
     "text": [
      "/Users/saividyud/Documents/GitHub/NBLens/tests/../IRSMicroLensing/IRSCaustics.py:490: RuntimeWarning: divide by zero encountered in log10\n",
      "  self.magnifications_log = np.log10(magnifications)\n"
     ]
    },
    {
     "name": "stdout",
     "output_type": "stream",
     "text": [
      "Convolving source profile with magnification map: 0.024 seconds\n",
      "VBMicrolensing time: 0.010 seconds\n",
      "\n",
      "Calculating trinary lens magnification map 7/9\n",
      "Creating mesh grid: 0.074 seconds\n",
      "Calculating source pixels: 1.144 seconds\n",
      "Calculating indices of translated pixel after deflection: 0.44 seconds\n",
      "Calculating translated pixels: 0.8 seconds\n",
      "Finding pixel repetitions and counts: 0.324 seconds\n",
      "Incrementing pixel magnifications based on counts and repetitions: 0.096 seconds\n",
      "Calculating analytic magnification map: 0.03 seconds\n",
      "---------------------\n",
      "Total time: 2.921 seconds\n",
      "Convolving source profile with magnification map: 0.028 seconds\n",
      "VBMicrolensing time: 0.004 seconds\n",
      "\n",
      "Calculating trinary lens magnification map 8/9\n"
     ]
    },
    {
     "name": "stderr",
     "output_type": "stream",
     "text": [
      "/Users/saividyud/Documents/GitHub/NBLens/tests/../IRSMicroLensing/IRSCaustics.py:490: RuntimeWarning: divide by zero encountered in log10\n",
      "  self.magnifications_log = np.log10(magnifications)\n"
     ]
    },
    {
     "name": "stdout",
     "output_type": "stream",
     "text": [
      "Creating mesh grid: 0.077 seconds\n",
      "Calculating source pixels: 1.231 seconds\n",
      "Calculating indices of translated pixel after deflection: 0.377 seconds\n",
      "Calculating translated pixels: 0.999 seconds\n",
      "Finding pixel repetitions and counts: 0.266 seconds\n",
      "Incrementing pixel magnifications based on counts and repetitions: 0.123 seconds\n",
      "Calculating analytic magnification map: 0.042 seconds\n",
      "---------------------\n",
      "Total time: 3.125 seconds\n"
     ]
    },
    {
     "name": "stderr",
     "output_type": "stream",
     "text": [
      "/Users/saividyud/Documents/GitHub/NBLens/tests/../IRSMicroLensing/IRSCaustics.py:490: RuntimeWarning: divide by zero encountered in log10\n",
      "  self.magnifications_log = np.log10(magnifications)\n"
     ]
    },
    {
     "name": "stdout",
     "output_type": "stream",
     "text": [
      "Convolving source profile with magnification map: 0.028 seconds\n",
      "VBMicrolensing time: 0.004 seconds\n",
      "\n",
      "Calculating trinary lens magnification map 9/9\n",
      "Creating mesh grid: 0.075 seconds\n",
      "Calculating source pixels: 1.336 seconds\n",
      "Calculating indices of translated pixel after deflection: 0.386 seconds\n",
      "Calculating translated pixels: 0.875 seconds\n",
      "Finding pixel repetitions and counts: 0.25 seconds\n",
      "Incrementing pixel magnifications based on counts and repetitions: 0.094 seconds\n",
      "Calculating analytic magnification map: 0.036 seconds\n",
      "---------------------\n",
      "Total time: 3.062 seconds\n",
      "Convolving source profile with magnification map: 0.028 seconds\n",
      "VBMicrolensing time: 0.003 seconds\n"
     ]
    },
    {
     "name": "stderr",
     "output_type": "stream",
     "text": [
      "/Users/saividyud/Documents/GitHub/NBLens/tests/../IRSMicroLensing/IRSCaustics.py:490: RuntimeWarning: divide by zero encountered in log10\n",
      "  self.magnifications_log = np.log10(magnifications)\n"
     ]
    }
   ],
   "source": [
    "# Defining list of instances of IRSCaustics for trinary lens\n",
    "trinary_mag_map_list = []\n",
    "\n",
    "# Creating a list of convolved brightnesses for each trinary lens\n",
    "convolved_trinary_brightnesses_list = []\n",
    "\n",
    "# List of convolved brightness difference for each trinary lens\n",
    "convolved_brightness_differences_list = []\n",
    "\n",
    "# List of x and y positions for each caustic curve\n",
    "trinary_caustics_list = []\n",
    "\n",
    "# Main for loop for each trinary lens configuration\n",
    "for i in range(len(trinary_lens_attributes_list)):\n",
    "    # Creating instance of IRSCaustics for trinary lens\n",
    "    trinary_param_dict = binary_param_dict.copy()\n",
    "    trinary_param_dict['lens_att'] = trinary_lens_attributes_list[i]\n",
    "    trinary_mag_map_list.append(IRSC.IRSCaustics(annulus_param_dict=trinary_param_dict))\n",
    "\n",
    "    print()\n",
    "    print(f\"Calculating trinary lens magnification map {i+1}/{len(trinary_lens_attributes_list)}\")\n",
    "    trinary_magnifications = trinary_mag_map_list[i].plot(show_lenses=False, cmap=cmap, show_plot=False, cm_offset='auto', show_dev=True)\n",
    "\n",
    "    # Convolving each magnification map with the source profile\n",
    "    convolved_trinary_brightnesses_list.append(trinary_mag_map_list[i].convolve(source_profile=source_profile))\n",
    "\n",
    "    # Plotting difference between convolved magnification maps\n",
    "    convolved_brightness_differences_list.append((convolved_trinary_brightnesses_list[i] - convolved_binary_brightnesses) / convolved_binary_brightnesses)\n",
    "\n",
    "    start = t.time()\n",
    "    parameters = [item for sublist in trinary_lens_attributes_list[i] for idx, item in enumerate(sublist) if idx != 2]\n",
    "    VBM.SetLensGeometry(parameters)\n",
    "\n",
    "    caustic_points = VBM.Multicaustics()\n",
    "    for caus in caustic_points:\n",
    "        if len(caus[0]) == 400:\n",
    "            trinary_caustics_list.append(np.array(caus))\n",
    "\n",
    "    print(f\"VBMicrolensing time: {t.time() - start:.3f} seconds\")\n",
    "    "
   ]
  },
  {
   "cell_type": "markdown",
   "id": "8ee2a680",
   "metadata": {},
   "source": [
    "## Finding maximum and minimum deviation for all trinary configurations"
   ]
  },
  {
   "cell_type": "code",
   "execution_count": 17,
   "id": "73315855",
   "metadata": {},
   "outputs": [
    {
     "name": "stdout",
     "output_type": "stream",
     "text": [
      "2.8401053507849774\n",
      "2.7337297193298165\n",
      "2.744160016371713\n",
      "2.741447251606111\n",
      "2.7174985013484436\n",
      "2.6640718014437565\n",
      "2.492347870413592\n",
      "2.129247655570098\n",
      "1.6364180477234493\n",
      "\n",
      "Absolute max: 2.8401053507849774\n",
      "\n",
      "-0.798633323609597\n",
      "-0.7944165089332187\n",
      "-0.7890906586600912\n",
      "-0.782458205401323\n",
      "-0.7735090146317086\n",
      "-0.7601781456664771\n",
      "-0.7368117036685076\n",
      "-0.6955879208165866\n",
      "-0.6280082418619175\n",
      "\n",
      "Absolute min: -0.798633323609597\n"
     ]
    }
   ],
   "source": [
    "# Finding max of all convolved brightness differences\n",
    "for i in range(len(convolved_brightness_differences_list)):\n",
    "    print(np.max(convolved_brightness_differences_list[i]))\n",
    "\n",
    "absolute_max = np.max(convolved_brightness_differences_list)\n",
    "print(f\"\\nAbsolute max: {absolute_max}\")\n",
    "\n",
    "print()\n",
    "# Finding max of all convolved brightness differences\n",
    "for i in range(len(convolved_brightness_differences_list)):\n",
    "    print(np.min(convolved_brightness_differences_list[i]))\n",
    "\n",
    "absolute_min = np.min(convolved_brightness_differences_list)\n",
    "print(f\"\\nAbsolute min: {absolute_min}\")"
   ]
  },
  {
   "cell_type": "markdown",
   "id": "398a0bc1",
   "metadata": {},
   "source": [
    "## Plotting individual magnification maps"
   ]
  },
  {
   "cell_type": "code",
   "execution_count": 20,
   "id": "13a6035f",
   "metadata": {},
   "outputs": [],
   "source": [
    "i = 0\n",
    "\n",
    "# Extracting body positions\n",
    "star_position = np.array([trinary_lens_attributes_list[i][0][0], trinary_lens_attributes_list[i][0][1]])\n",
    "big_mass_position = np.array([trinary_lens_attributes_list[i][1][0], trinary_lens_attributes_list[i][1][1]])\n",
    "small_mass_position = np.array([trinary_lens_attributes_list[i][2][0], trinary_lens_attributes_list[i][2][1]])\n",
    "\n",
    "# Extracting body masses\n",
    "star_mass = trinary_lens_attributes_list[i][0][3]\n",
    "big_mass = trinary_lens_attributes_list[i][1][3]\n",
    "small_mass = trinary_lens_attributes_list[i][2][3]\n",
    "\n",
    "# Finding center of mass between two planets\n",
    "planet_center_of_mass = (big_mass * big_mass_position + small_mass * small_mass_position) / (big_mass + small_mass)\n",
    "\n",
    "# Calculating and plotting trinary lens magnification map\n",
    "trinary_mag_map_list[i].show_dev = False\n",
    "trinary_mag_map_list[i].cmap = cmap\n",
    "trinary_mag_map_list[i].fig_c, trinary_mag_map_list[i].ax_c = trinary_mag_map_list[i].plot_mags_map()\n",
    "trinary_mag_map_list[i].ax_c.set_title(f'Magnification Map for Planet Mass Ratio: {trinary_lens_attributes_list[i][2][3] / binary_lens_attributes[1][3]:.2e}')\n",
    "\n",
    "# trinary_mag_map_list[i].fig_c.savefig('Trinary Mag Map Deviation.png', dpi=500)\n",
    "\n",
    "# Plotting the star and planets\n",
    "# trinary_mag_map_list[i].ax_c.plot([star_position[0], small_mass_position[0]], [star_position[1], small_mass_position[1]], color='blue', linestyle='--', linewidth=1)\n",
    "# trinary_mag_map_list[i].ax_c.plot([star_position[0], big_mass_position[0]], [star_position[1], big_mass_position[1]], color='red', linestyle='--', linewidth=1)\n",
    "\n",
    "# # Center of mass between the two planets\n",
    "# trinary_mag_map_list[i].ax_c.plot([star_position[0], planet_center_of_mass[0]], [star_position[1], planet_center_of_mass[1]], color='green', linestyle='--', linewidth=1)\n",
    "\n",
    "# Plotting VBMicrolensing caustics\n",
    "trinary_mag_map_list[i].ax_c.plot(trinary_caustics_list[i][0, :], trinary_caustics_list[i][1, :], color='red', linestyle='-', linewidth=1)\n",
    "\n",
    "plt.show()"
   ]
  },
  {
   "cell_type": "code",
   "execution_count": 104,
   "id": "af439701",
   "metadata": {},
   "outputs": [],
   "source": [
    "import scipy.ndimage as ndi\n",
    "\n",
    "neighborhood = 5\n",
    "\n",
    "mag_max = ndi.maximum_filter(binary_mag_map.delta_log, neighborhood)\n",
    "maxima = binary_mag_map.delta_log == mag_max\n",
    "mag_min = ndi.minimum_filter(binary_mag_map.delta_log, neighborhood)\n",
    "\n",
    "threshold = np.amax(binary_mag_map.delta_log) * 0.1\n",
    "\n",
    "diff = (mag_max - mag_min) > threshold\n",
    "maxima[diff == 0] = 0\n",
    "\n",
    "labeled, num_objects = ndi.label(maxima)\n",
    "slices = ndi.find_objects(labeled)\n",
    "\n",
    "x, y = [], []\n",
    "\n",
    "for dy, dx in slices:\n",
    "    x_center = (dx.start + dx.stop - 1)/2\n",
    "    x.append(x_center)\n",
    "    y_center = (dy.start + dy.stop - 1)/2    \n",
    "    y.append(y_center)\n",
    "\n",
    "fig = plt.figure(figsize=(10, 8))\n",
    "ax = fig.add_subplot()\n",
    "\n",
    "ax.scatter(x, y)\n",
    "\n",
    "plt.show()"
   ]
  },
  {
   "cell_type": "markdown",
   "id": "68d28b50",
   "metadata": {},
   "source": [
    "## Plotting trinary and binary magnification maps on top of each other"
   ]
  },
  {
   "cell_type": "code",
   "execution_count": 21,
   "id": "f47bd865",
   "metadata": {},
   "outputs": [],
   "source": [
    "i = 0\n",
    "\n",
    "# Extracting body positions\n",
    "star_position = np.array([trinary_lens_attributes_list[i][0][0], trinary_lens_attributes_list[i][0][1]])\n",
    "big_mass_position = np.array([trinary_lens_attributes_list[i][1][0], trinary_lens_attributes_list[i][1][1]])\n",
    "small_mass_position = np.array([trinary_lens_attributes_list[i][2][0], trinary_lens_attributes_list[i][2][1]])\n",
    "\n",
    "# Extracting body masses\n",
    "star_mass = trinary_lens_attributes_list[i][0][3]\n",
    "big_mass = trinary_lens_attributes_list[i][1][3]\n",
    "small_mass = trinary_lens_attributes_list[i][2][3]\n",
    "\n",
    "# Finding center of mass between two planets\n",
    "planet_center_of_mass = (big_mass * big_mass_position + small_mass * small_mass_position) / (big_mass + small_mass)\n",
    "\n",
    "fig = plt.figure(figsize=(10, 8))\n",
    "ax = fig.add_subplot()\n",
    "\n",
    "ax.imshow(binary_mag_map.magnifications_log, cmap=cmap, extent=[-binary_mag_map.ang_width/2, binary_mag_map.ang_width/2, -binary_mag_map.ang_width/2, binary_mag_map.ang_width/2], alpha=0.5)\n",
    "ax.imshow(trinary_mag_map_list[i].magnifications_log, cmap=cmap, extent=[-binary_mag_map.ang_width/2, binary_mag_map.ang_width/2, -binary_mag_map.ang_width/2, binary_mag_map.ang_width/2], alpha=0.5)\n",
    "\n",
    "ax.set_title(f'Magnification Map for Planet Mass Ratio: {trinary_lens_attributes_list[i][2][3] / binary_lens_attributes[1][3]:.2e}\\non top of Binary Lens Map')\n",
    "ax.set_xlabel('X [$\\\\theta_E$]')\n",
    "ax.set_ylabel('Y [$\\\\theta_E$]')\n",
    "\n",
    "# ax.plot([star_position[0], small_mass_position[0]], [star_position[1], small_mass_position[1]], color='blue', linestyle='--', linewidth=1)\n",
    "# ax.plot([star_position[0], big_mass_position[0]], [star_position[1], big_mass_position[1]], color='red', linestyle='--', linewidth=1)\n",
    "# ax.plot([star_position[0], planet_center_of_mass[0]], [star_position[1], planet_center_of_mass[1]], color='green', linestyle='--', linewidth=1)\n",
    "\n",
    "ax.set_xlim(-0.004, 0.02)\n",
    "ax.set_ylim(-0.008, 0.008)\n",
    "\n",
    "ax.plot(trinary_caustics_list[i][0, :], trinary_caustics_list[i][1, :], color='red', linestyle='-', linewidth=0.5, alpha=0.5)\n",
    "\n",
    "ax.plot(binary_caustics[0, :], binary_caustics[1, :], color='blue', linestyle='-', linewidth=0.5, alpha=0.5)\n",
    "\n",
    "# fig.savefig('Binary and Trinary Magnification Map.png', dpi=500)\n",
    "\n",
    "plt.show()"
   ]
  },
  {
   "cell_type": "code",
   "execution_count": 139,
   "id": "11767322",
   "metadata": {},
   "outputs": [],
   "source": [
    "def find_cusp_points(caustic_points):\n",
    "    points = caustic_points.T  # Shape: (400, 2)\n",
    "\n",
    "    vectors = np.diff(points, axis=0)  # Shape: (399, 2)\n",
    "\n",
    "    norms = np.linalg.norm(vectors, axis=1, keepdims=True)\n",
    "    unit_vectors = vectors / norms\n",
    "\n",
    "    dot_products = np.sum(unit_vectors[:-1] * unit_vectors[1:], axis=1)\n",
    "    dot_products = np.clip(dot_products, -1.0, 1.0)  # Clip to avoid numerical errors\n",
    "    angles = np.rad2deg(np.arccos(dot_products))  # In degrees\n",
    "\n",
    "    cusp_indices = np.where(angles > 120)[0] + 1  # +1 to shift to the index of the corner point\n",
    "\n",
    "    print(angles[cusp_indices-1])\n",
    "\n",
    "    return caustic_points[0, cusp_indices], caustic_points[1, cusp_indices]"
   ]
  },
  {
   "cell_type": "code",
   "execution_count": 148,
   "id": "0a79f867",
   "metadata": {},
   "outputs": [
    {
     "name": "stdout",
     "output_type": "stream",
     "text": [
      "[176.72892833 178.79999479 176.72892833]\n",
      "[178.78792377 178.74008065 178.8000181  178.7307212  178.68357461]\n"
     ]
    }
   ],
   "source": [
    "fig = plt.figure(figsize=(10, 8))\n",
    "ax = fig.add_subplot()\n",
    "\n",
    "i = 5\n",
    "\n",
    "binary_xs, binary_ys = find_cusp_points(binary_caustics)\n",
    "trinary_xs, trinary_ys = find_cusp_points(trinary_caustics_list[i])\n",
    "\n",
    "binary_distances = np.sqrt(binary_xs**2 + binary_ys**2)\n",
    "binary_closest_idx = np.argmin(binary_distances)\n",
    "\n",
    "trinary_distances = np.sqrt(trinary_xs**2 + trinary_ys**2)\n",
    "trinary_closest_idx = np.argmin(trinary_distances)\n",
    "\n",
    "ax.plot(trinary_caustics_list[i][0, :], trinary_caustics_list[i][1, :], color='red', linestyle='-', linewidth=0.5, alpha=0.5)\n",
    "ax.plot(binary_caustics[0, :], binary_caustics[1, :], color='blue', linestyle='-', linewidth=0.5, alpha=0.5)\n",
    "\n",
    "ax.scatter(binary_xs, binary_ys, color='green', s=1)\n",
    "ax.scatter(trinary_xs, trinary_ys, color='green', s=1)\n",
    "\n",
    "ax.scatter(binary_xs[binary_closest_idx], binary_ys[binary_closest_idx], color='black', s=50, marker='o', facecolor='none')\n",
    "ax.scatter(trinary_xs[trinary_closest_idx], trinary_ys[trinary_closest_idx], color='black', s=50, marker='o', facecolor='none')\n",
    "\n",
    "plt.show()"
   ]
  },
  {
   "cell_type": "markdown",
   "id": "dc8befaa",
   "metadata": {},
   "source": [
    "## Plotting individual fractional difference maps"
   ]
  },
  {
   "cell_type": "code",
   "execution_count": 22,
   "id": "0a48d20e",
   "metadata": {},
   "outputs": [],
   "source": [
    "i = 0\n",
    "\n",
    "fig = plt.figure(figsize=(10, 8))\n",
    "ax = fig.add_subplot()\n",
    "\n",
    "ax.set_title(f'Convolved Brightness Fractional Differences for Planet Mass Ratio: {trinary_lens_attributes_list[i][2][3] / binary_lens_attributes[1][3]:.2e}')\n",
    "img = ax.imshow(convolved_brightness_differences_list[i], cmap=cmap, extent=[-binary_mag_map.ang_width/2, binary_mag_map.ang_width/2, -binary_mag_map.ang_width/2, binary_mag_map.ang_width/2])\n",
    "bar = fig.colorbar(img, location='right')\n",
    "bar.set_label('Fractional Difference')\n",
    "\n",
    "props = dict(boxstyle='round', facecolor='white', edgecolor='lightgray', alpha=0.8)\n",
    "ax.text(0.02, 0.98, f'Max = {round(np.max(convolved_brightness_differences_list[i]), 18)}\\nMin = {round(np.min(convolved_brightness_differences_list[i]), 18)}', va='top', zorder=10, bbox=props, transform=ax.transAxes)\n",
    "\n",
    "plt.show()"
   ]
  },
  {
   "cell_type": "markdown",
   "id": "637403e2",
   "metadata": {},
   "source": [
    "## Plotting the deviation for each trinary configuration"
   ]
  },
  {
   "cell_type": "code",
   "execution_count": 23,
   "id": "9f218e49",
   "metadata": {},
   "outputs": [],
   "source": [
    "fig = plt.figure(figsize=(12, 12))\n",
    "axes = fig.subplots(3, 3)\n",
    "\n",
    "fig.suptitle('\\nConvolved Brightness Fractional Differences for Trinary Lenses', fontsize=16)\n",
    "\n",
    "for i in range(len(trinary_lens_attributes_list)):\n",
    "    if i < 3:\n",
    "        ax = axes[0, i]\n",
    "    elif i < 6:\n",
    "        ax = axes[1, i-3]\n",
    "    else:\n",
    "        ax = axes[2, i-6]\n",
    "\n",
    "    img = ax.imshow(convolved_brightness_differences_list[i], cmap=cmap, extent=[-binary_mag_map.ang_width/2, binary_mag_map.ang_width/2, -binary_mag_map.ang_width/2, binary_mag_map.ang_width/2], vmin=absolute_min, vmax=absolute_max)\n",
    "    \n",
    "    ax.set_title(f\"Planet Mass Ratio: {trinary_lens_attributes_list[i][2][3] / binary_lens_attributes[1][3]:.2e}\")\n",
    "    # ax.set_xlabel('X [$\\\\theta_E$]')\n",
    "    # ax.set_ylabel('Y [$\\\\theta_E]$')\n",
    "    ax.axis('off')\n",
    "    ax.set_xlim(-binary_mag_map.ang_width/2, binary_mag_map.ang_width/2)\n",
    "    ax.set_ylim(-binary_mag_map.ang_width/2, binary_mag_map.ang_width/2)\n",
    "\n",
    "    props = dict(boxstyle='round', facecolor='white', edgecolor='lightgray', alpha=0.8)\n",
    "    ax.text(0.02, 0.98, f'Max = {round(np.max(convolved_brightness_differences_list[i]), 18)}\\nMin = {round(np.min(convolved_brightness_differences_list[i]), 18)}', va='top', zorder=10, bbox=props, transform=ax.transAxes)\n",
    "\n",
    "cbar_ax = fig.add_axes([0.92, 0.15, 0.02, 0.7])\n",
    "cbar_ax.axis('off')\n",
    "\n",
    "bar = fig.colorbar(img, ax=cbar_ax, location='right', fraction=1.5, aspect=20)\n",
    "bar.set_label('Fractional Difference')\n",
    "\n",
    "# fig.savefig('Trinary Lens Convolved Convolved Fractional Difference.png', dpi=500)\n",
    "\n",
    "plt.show()"
   ]
  },
  {
   "cell_type": "markdown",
   "id": "0d2104c4",
   "metadata": {},
   "source": [
    "## Defining source trajectory"
   ]
  },
  {
   "cell_type": "code",
   "execution_count": 24,
   "id": "3db4d292",
   "metadata": {},
   "outputs": [],
   "source": [
    "plt.close('all')\n",
    "\n",
    "binary_mag_map.fig_c, binary_mag_map.ax_c = binary_mag_map.plot_mags_map()\n",
    "\n",
    "# Removing any present lines from magnification map\n",
    "for child in binary_mag_map.ax_c.get_children():\n",
    "    if isinstance(child, (collections.PathCollection, collections.PatchCollection)):\n",
    "        child.remove()\n",
    "\n",
    "# Impact parameter\n",
    "u = 0.001\n",
    "\n",
    "# Angle from x axis\n",
    "alpha = 30\n",
    "\n",
    "# Number of points\n",
    "num_points = 100\n",
    "\n",
    "# Discretizing the source trajectory\n",
    "xs_prime = np.linspace(-binary_mag_map.ang_width/np.sqrt(2), binary_mag_map.ang_width/np.sqrt(2), num_points).reshape(1, num_points)\n",
    "ys_prime = np.ones((1, num_points)) * u\n",
    "\n",
    "points_prime = np.vstack((xs_prime, ys_prime))\n",
    "\n",
    "# Rotating the source trajectory\n",
    "rotation_matrix = np.array([[np.cos(np.radians(alpha)), -np.sin(np.radians(alpha))],\n",
    "                            [np.sin(np.radians(alpha)), np.cos(np.radians(alpha))]])\n",
    "\n",
    "points = np.dot(rotation_matrix, points_prime)\n",
    "\n",
    "# Extracting x and y coordinates\n",
    "xs = points[0]\n",
    "ys = points[1]\n",
    "\n",
    "# Plotting the source trajectory\n",
    "circles = [patches.Circle((x, y), radius=radius, color='red', alpha=0.5, fill=False) for x, y in zip(xs, ys)]\n",
    "c = collections.PatchCollection(circles, match_original=True, zorder=50)\n",
    "binary_mag_map.ax_c.add_collection(c)\n",
    "# binary_mag_map.ax_c.scatter(xs, ys, s=radius, color='red', zorder=50)\n",
    "\n",
    "plt.show()"
   ]
  },
  {
   "cell_type": "markdown",
   "id": "b9876471",
   "metadata": {},
   "source": [
    "## Defining a function to calculate the starting and ending points of source trajectory on the bounding box of magnification map given impact parameter and angle from x axis"
   ]
  },
  {
   "cell_type": "code",
   "execution_count": 25,
   "id": "fac4700b",
   "metadata": {},
   "outputs": [],
   "source": [
    "def get_line_box_intersections(u, alpha, W):\n",
    "    alpha = np.deg2rad(alpha)\n",
    "    \n",
    "    intersections = []\n",
    "\n",
    "    # Starting point of line\n",
    "    x0 = -u * np.sin(alpha)\n",
    "    y0 = u * np.cos(alpha)\n",
    "\n",
    "    # Direction vector of line\n",
    "    dx = np.cos(alpha)\n",
    "    dy = np.sin(alpha)\n",
    "\n",
    "    # Vertical edges\n",
    "    for x_edge in [-W/2, W/2]:\n",
    "        t = (x_edge - x0) / dx\n",
    "        y = y0 + t*dy\n",
    "        if -W/2 <= y <= W/2:\n",
    "            intersections.append((x_edge, y))\n",
    "    \n",
    "    # Horizontal edges\n",
    "    for y_edge in [-W/2, W/2]:\n",
    "        t = (y_edge - y0) / dy\n",
    "        x = x0 + t*dx\n",
    "        if -W/2 <= x <= W/2:\n",
    "            intersections.append((x, y_edge))\n",
    "    \n",
    "    return intersections"
   ]
  },
  {
   "cell_type": "code",
   "execution_count": 27,
   "id": "d7165fca",
   "metadata": {},
   "outputs": [
    {
     "name": "stdout",
     "output_type": "stream",
     "text": [
      "499.5\n",
      "[ -1. 225.]\n",
      "[999. 803.]\n",
      "[226 226 227 227 228 228 229 230 230 231 231 232 233 233 234 234 235 235\n",
      " 236 237 237 238 238 239 239 240 241 241 242 242 243 243 244 245 245 246\n",
      " 246 247 248 248 249 249 250 250 251 252 252 253 253 254 254 255 256 256\n",
      " 257 257 258 259 259 260 260 261 261 262 263 263 264 264 265 265 266 267\n",
      " 267 268 268 269 270 270 271 271 272 272 273 274 274 275 275 276 276 277\n",
      " 278 278 279 279 280 280 281 282 282 283 283 284 285 285 286 286 287 287\n",
      " 288 289 289 290 290 291 291 292 293 293 294 294 295 296 296 297 297 298\n",
      " 298 299 300 300 301 301 302 302 303 304 304 305 305 306 306 307 308 308\n",
      " 309 309 310 311 311 312 312 313 313 314 315 315 316 316 317 317 318 319\n",
      " 319 320 320 321 322 322 323 323 324 324 325 326 326 327 327 328 328 329\n",
      " 330 330 331 331 332 333 333 334 334 335 335 336 337 337 338 338 339 339\n",
      " 340 341 341 342 342 343 343 344 345 345 346 346 347 348 348 349 349 350\n",
      " 350 351 352 352 353 353 354 354 355 356 356 357 357 358 359 359 360 360\n",
      " 361 361 362 363 363 364 364 365 365 366 367 367 368 368 369 370 370 371\n",
      " 371 372 372 373 374 374 375 375 376 376 377 378 378 379 379 380 380 381\n",
      " 382 382 383 383 384 385 385 386 386 387 387 388 389 389 390 390 391 391\n",
      " 392 393 393 394 394 395 396 396 397 397 398 398 399 400 400 401 401 402\n",
      " 402 403 404 404 405 405 406 406 407 408 408 409 409 410 411 411 412 412\n",
      " 413 413 414 415 415 416 416 417 417 418 419 419 420 420 421 422 422 423\n",
      " 423 424 424 425 426 426 427 427 428 428 429 430 430 431 431 432 433 433\n",
      " 434 434 435 435 436 437 437 438 438 439 439 440 441 441 442 442 443 443\n",
      " 444 445 445 446 446 447 448 448 449 449 450 450 451 452 452 453 453 454\n",
      " 454 455 456 456 457 457 458 459 459 460 460 461 461 462 463 463 464 464\n",
      " 465 465 466 467 467 468 468 469 469 470 471 471 472 472 473 474 474 475\n",
      " 475 476 476 477 478 478 479 479 480 480 481 482 482 483 483 484 485 485\n",
      " 486 486 487 487 488 489 489 490 490 491 491 492 493 493 494 494 495 496\n",
      " 496 497 497 498 498 499 500 500 501 501 502 502 503 504 504 505 505 506\n",
      " 506 507 508 508 509 509 510 511 511 512 512 513 513 514 515 515 516 516\n",
      " 517 517 518 519 519 520 520 521 522 522 523 523 524 524 525 526 526 527\n",
      " 527 528 528 529 530 530 531 531 532 532 533 534 534 535 535 536 537 537\n",
      " 538 538 539 539 540 541 541 542 542 543 543 544 545 545 546 546 547 548\n",
      " 548 549 549 550 550 551 552 552 553 553 554 554 555 556 556 557 557 558\n",
      " 559 559 560 560 561 561 562 563 563 564 564 565 565 566 567 567 568 568\n",
      " 569 569 570 571 571 572 572 573 574 574 575 575 576 576 577 578 578 579\n",
      " 579 580 580 581 582 582 583 583 584 585 585 586 586 587 587 588 589 589\n",
      " 590 590 591 591 592 593 593 594 594 595 595 596 597 597 598 598 599 600\n",
      " 600 601 601 602 602 603 604 604 605 605 606 606 607 608 608 609 609 610\n",
      " 611 611 612 612 613 613 614 615 615 616 616 617 617 618 619 619 620 620\n",
      " 621 622 622 623 623 624 624 625 626 626 627 627 628 628 629 630 630 631\n",
      " 631 632 632 633 634 634 635 635 636 637 637 638 638 639 639 640 641 641\n",
      " 642 642 643 643 644 645 645 646 646 647 648 648 649 649 650 650 651 652\n",
      " 652 653 653 654 654 655 656 656 657 657 658 659 659 660 660 661 661 662\n",
      " 663 663 664 664 665 665 666 667 667 668 668 669 669 670 671 671 672 672\n",
      " 673 674 674 675 675 676 676 677 678 678 679 679 680 680 681 682 682 683\n",
      " 683 684 685 685 686 686 687 687 688 689 689 690 690 691 691 692 693 693\n",
      " 694 694 695 695 696 697 697 698 698 699 700 700 701 701 702 702 703 704\n",
      " 704 705 705 706 706 707 708 708 709 709 710 711 711 712 712 713 713 714\n",
      " 715 715 716 716 717 717 718 719 719 720 720 721 722 722 723 723 724 724\n",
      " 725 726 726 727 727 728 728 729 730 730 731 731 732 732 733 734 734 735\n",
      " 735 736 737 737 738 738 739 739 740 741 741 742 742 743 743 744 745 745\n",
      " 746 746 747 748 748 749 749 750 750 751 752 752 753 753 754 754 755 756\n",
      " 756 757 757 758 758 759 760 760 761 761 762 763 763 764 764 765 765 766\n",
      " 767 767 768 768 769 769 770 771 771 772 772 773 774 774 775 775 776 776\n",
      " 777 778 778 779 779 780 780 781 782 782 783 783 784 785 785 786 786 787\n",
      " 787 788 789 789 790 790 791 791 792 793 793 794 794 795 795 796 797 797\n",
      " 798 798 799 800 800 801 801 802 802 803]\n",
      "[  0   1   2   3   4   5   6   7   8   9  10  11  12  13  14  15  16  17\n",
      "  18  19  20  21  22  23  24  25  26  27  28  29  30  31  32  33  34  35\n",
      "  36  37  38  39  40  41  42  43  44  45  46  47  48  49  50  51  52  53\n",
      "  54  55  56  57  58  59  60  61  62  63  64  65  66  67  68  69  70  71\n",
      "  72  73  74  75  76  77  78  79  80  81  82  83  84  85  86  87  88  89\n",
      "  90  91  92  93  94  95  96  97  98  99 100 101 102 103 104 105 106 107\n",
      " 108 109 110 111 112 113 114 115 116 117 118 119 120 121 122 123 124 125\n",
      " 126 127 128 129 130 131 132 133 134 135 136 137 138 139 140 141 142 143\n",
      " 144 145 146 147 148 149 150 151 152 153 154 155 156 157 158 159 160 161\n",
      " 162 163 164 165 166 167 168 169 170 171 172 173 174 175 176 177 178 179\n",
      " 180 181 182 183 184 185 186 187 188 189 190 191 192 193 194 195 196 197\n",
      " 198 199 200 201 202 203 204 205 206 207 208 209 210 211 212 213 214 215\n",
      " 216 217 218 219 220 221 222 223 224 225 226 227 228 229 230 231 232 233\n",
      " 234 235 236 237 238 239 240 241 242 243 244 245 246 247 248 249 250 251\n",
      " 252 253 254 255 256 257 258 259 260 261 262 263 264 265 266 267 268 269\n",
      " 270 271 272 273 274 275 276 277 278 279 280 281 282 283 284 285 286 287\n",
      " 288 289 290 291 292 293 294 295 296 297 298 299 300 301 302 303 304 305\n",
      " 306 307 308 309 310 311 312 313 314 315 316 317 318 319 320 321 322 323\n",
      " 324 325 326 327 328 329 330 331 332 333 334 335 336 337 338 339 340 341\n",
      " 342 343 344 345 346 347 348 349 350 351 352 353 354 355 356 357 358 359\n",
      " 360 361 362 363 364 365 366 367 368 369 370 371 372 373 374 375 376 377\n",
      " 378 379 380 381 382 383 384 385 386 387 388 389 390 391 392 393 394 395\n",
      " 396 397 398 399 400 401 402 403 404 405 406 407 408 409 410 411 412 413\n",
      " 414 415 416 417 418 419 420 421 422 423 424 425 426 427 428 429 430 431\n",
      " 432 433 434 435 436 437 438 439 440 441 442 443 444 445 446 447 448 449\n",
      " 450 451 452 453 454 455 456 457 458 459 460 461 462 463 464 465 466 467\n",
      " 468 469 470 471 472 473 474 475 476 477 478 479 480 481 482 483 484 485\n",
      " 486 487 488 489 490 491 492 493 494 495 496 497 498 499 500 501 502 503\n",
      " 504 505 506 507 508 509 510 511 512 513 514 515 516 517 518 519 520 521\n",
      " 522 523 524 525 526 527 528 529 530 531 532 533 534 535 536 537 538 539\n",
      " 540 541 542 543 544 545 546 547 548 549 550 551 552 553 554 555 556 557\n",
      " 558 559 560 561 562 563 564 565 566 567 568 569 570 571 572 573 574 575\n",
      " 576 577 578 579 580 581 582 583 584 585 586 587 588 589 590 591 592 593\n",
      " 594 595 596 597 598 599 600 601 602 603 604 605 606 607 608 609 610 611\n",
      " 612 613 614 615 616 617 618 619 620 621 622 623 624 625 626 627 628 629\n",
      " 630 631 632 633 634 635 636 637 638 639 640 641 642 643 644 645 646 647\n",
      " 648 649 650 651 652 653 654 655 656 657 658 659 660 661 662 663 664 665\n",
      " 666 667 668 669 670 671 672 673 674 675 676 677 678 679 680 681 682 683\n",
      " 684 685 686 687 688 689 690 691 692 693 694 695 696 697 698 699 700 701\n",
      " 702 703 704 705 706 707 708 709 710 711 712 713 714 715 716 717 718 719\n",
      " 720 721 722 723 724 725 726 727 728 729 730 731 732 733 734 735 736 737\n",
      " 738 739 740 741 742 743 744 745 746 747 748 749 750 751 752 753 754 755\n",
      " 756 757 758 759 760 761 762 763 764 765 766 767 768 769 770 771 772 773\n",
      " 774 775 776 777 778 779 780 781 782 783 784 785 786 787 788 789 790 791\n",
      " 792 793 794 795 796 797 798 799 800 801 802 803 804 805 806 807 808 809\n",
      " 810 811 812 813 814 815 816 817 818 819 820 821 822 823 824 825 826 827\n",
      " 828 829 830 831 832 833 834 835 836 837 838 839 840 841 842 843 844 845\n",
      " 846 847 848 849 850 851 852 853 854 855 856 857 858 859 860 861 862 863\n",
      " 864 865 866 867 868 869 870 871 872 873 874 875 876 877 878 879 880 881\n",
      " 882 883 884 885 886 887 888 889 890 891 892 893 894 895 896 897 898 899\n",
      " 900 901 902 903 904 905 906 907 908 909 910 911 912 913 914 915 916 917\n",
      " 918 919 920 921 922 923 924 925 926 927 928 929 930 931 932 933 934 935\n",
      " 936 937 938 939 940 941 942 943 944 945 946 947 948 949 950 951 952 953\n",
      " 954 955 956 957 958 959 960 961 962 963 964 965 966 967 968 969 970 971\n",
      " 972 973 974 975 976 977 978 979 980 981 982 983 984 985 986 987 988 989\n",
      " 990 991 992 993 994 995 996 997 998 999]\n",
      "(1000,)\n"
     ]
    }
   ],
   "source": [
    "from skimage.draw import line\n",
    "\n",
    "# Get the intersections of the line with the box edges\n",
    "intersections = get_line_box_intersections(u, alpha, binary_mag_map.ang_width)\n",
    "\n",
    "start = intersections[0]\n",
    "end = intersections[1]\n",
    "\n",
    "brightnesses = convolved_brightness_differences_list[0]\n",
    "\n",
    "offset = (binary_mag_map.pixels - 1) / 2.0\n",
    "\n",
    "print(offset)\n",
    "\n",
    "start = np.floor(start/binary_mag_map.ang_res + offset)\n",
    "end = np.floor(end/binary_mag_map.ang_res + offset)\n",
    "\n",
    "print(start)\n",
    "print(end)\n",
    "\n",
    "# Get line pixel coordinates\n",
    "rr, cc = line(int(start[1]), int(start[0]), int(end[1]), int(end[0]))\n",
    "\n",
    "print(rr[1:])\n",
    "print(cc[1:])\n",
    "\n",
    "# Get brightness values along the line\n",
    "line_values = brightnesses[rr[1:], cc[1:]]\n",
    "\n",
    "print(np.shape(line_values))\n",
    "\n",
    "fig = plt.figure(figsize=(10, 8))\n",
    "ax = fig.add_subplot()\n",
    "\n",
    "ax.imshow(brightnesses, cmap=cmap, extent=[0, binary_mag_map.pixels, 0, binary_mag_map.pixels])\n",
    "ax.scatter(cc[1:], rr[1:], s=5, color='red')\n",
    "\n",
    "fig = plt.figure(figsize=(10, 8))\n",
    "ax = fig.add_subplot()\n",
    "\n",
    "ax.plot(line_values)\n",
    "ax.set_xlabel(\"Sample Index Along Line\")\n",
    "ax.set_ylabel(\"Brightness\")\n",
    "ax.grid(True)\n",
    "\n",
    "plt.show()"
   ]
  },
  {
   "cell_type": "code",
   "execution_count": 85,
   "id": "728c541f",
   "metadata": {},
   "outputs": [
    {
     "name": "stdout",
     "output_type": "stream",
     "text": [
      "549335.1527695112\n",
      "903379.017067694\n"
     ]
    }
   ],
   "source": [
    "print(line_values[2500])\n",
    "print(brightnesses[2500, 2500])"
   ]
  },
  {
   "cell_type": "markdown",
   "id": "325d1c52",
   "metadata": {},
   "source": [
    "## Extra stuff"
   ]
  },
  {
   "cell_type": "code",
   "execution_count": 86,
   "id": "01a0ad4f",
   "metadata": {},
   "outputs": [],
   "source": [
    "from scipy.ndimage import map_coordinates\n",
    "\n",
    "# Define start and end points of the line (row, col) format\n",
    "start = np.array([10, 20])\n",
    "end = np.array([80, 70])\n",
    "\n",
    "# Number of samples along the line (increase for higher resolution)\n",
    "num_samples = 1000\n",
    "\n",
    "# Interpolate positions along the line\n",
    "rows = np.linspace(start[0], end[0], num_samples)\n",
    "cols = np.linspace(start[1], end[1], num_samples)\n",
    "\n",
    "# Create a 2 x N array of coordinates (row-major format)\n",
    "coords = np.vstack((rows, cols))\n",
    "\n",
    "# Interpolate brightness values at these coordinates\n",
    "interpolated_values = map_coordinates(brightnesses, coords, order=3)\n",
    "\n",
    "# Plot for visualization\n",
    "fig = plt.figure(figsize=(10, 8))\n",
    "ax = fig.add_subplot()\n",
    "\n",
    "ax.imshow(brightnesses, extent=[0, 100, 0, 100])\n",
    "ax.scatter(cols, rows, s=5, color='red')\n",
    "ax.set_title(\"Interpolated Line Across Brightness Array\")\n",
    "\n",
    "fig = plt.figure(figsize=(10, 8))\n",
    "ax = fig.add_subplot()\n",
    "# Plot interpolated brightness along the line\n",
    "ax.plot(interpolated_values)\n",
    "ax.set_title(\"Interpolated Brightness Along the Line\")\n",
    "ax.set_xlabel(\"Sample Index Along Line\")\n",
    "ax.set_ylabel(\"Brightness\")\n",
    "ax.grid(True)\n",
    "plt.show()"
   ]
  },
  {
   "cell_type": "code",
   "execution_count": 87,
   "id": "5c094fd1",
   "metadata": {},
   "outputs": [
    {
     "data": {
      "text/plain": [
       "[(-0.5, np.float64(-0.17320508075688762)),\n",
       " (0.5, np.float64(0.404145188432738))]"
      ]
     },
     "execution_count": 87,
     "metadata": {},
     "output_type": "execute_result"
    }
   ],
   "source": [
    "get_line_box_intersections(0.1, 30, 1)"
   ]
  },
  {
   "cell_type": "code",
   "execution_count": 88,
   "id": "16383e4d",
   "metadata": {},
   "outputs": [],
   "source": [
    "def compute_fractional_circle_sum_centered(brightness, x_center, y_center, radius, ax, supersample=10):\n",
    "    \"\"\"\n",
    "    Compute the brightness sum within a circle of given radius, centered at (x_center, y_center),\n",
    "    using a coordinate system where (0, 0) lies at the center of the grid, properly accounting\n",
    "    for even/odd grid dimensions.\n",
    "\n",
    "    Parameters:\n",
    "        brightness (2D array): Brightness grid (H, W)\n",
    "        x_center, y_center (float): Circle center in (0, 0)-centered coordinates\n",
    "        radius (float): Radius of the circle\n",
    "        supersample (int): Supersampling rate (e.g. 10 means 10x10 subpixels per pixel)\n",
    "\n",
    "    Returns:\n",
    "        float: Weighted sum of brightness inside the circle\n",
    "    \"\"\"\n",
    "    i_time = t.time()\n",
    "    # Converting to pixel coordinates\n",
    "    x_center = x_center / binary_mag_map.ang_res\n",
    "    y_center = y_center / binary_mag_map.ang_res\n",
    "    radius = radius / binary_mag_map.ang_res\n",
    "\n",
    "    H, W = brightness.shape\n",
    "    y_offset = (H - 1) / 2.0\n",
    "    x_offset = (W - 1) / 2.0\n",
    "\n",
    "    # Get bounds in pixel indices\n",
    "    j_min = int(np.floor(x_center + x_offset - radius))\n",
    "    j_max = int(np.ceil(x_center + x_offset + radius))\n",
    "    i_min = int(np.floor(y_center + y_offset - radius))\n",
    "    i_max = int(np.ceil(y_center + y_offset + radius))\n",
    "\n",
    "    # Supersampling offsets within a pixel\n",
    "    ss = supersample\n",
    "    offsets = np.linspace(-0.5 + 0.5 / ss, 0.5 - 0.5 / ss, ss)\n",
    "    sub_x, sub_y = np.meshgrid(offsets, offsets)\n",
    "\n",
    "    print(t.time() - i_time)\n",
    "\n",
    "    total = 0.0\n",
    "\n",
    "    i_time = t.time()\n",
    "    for i in range(i_min, i_max + 1):\n",
    "        for j in range(j_min, j_max + 1):\n",
    "            if 0 <= i < H and 0 <= j < W:\n",
    "                # Physical center of pixel (i, j)\n",
    "                x = j - x_offset\n",
    "                y = i - y_offset\n",
    "                \n",
    "                # Check if the pixel center is within the circle\n",
    "                if (x - x_center)**2 + (y - y_center)**2 < (radius + 1/np.sqrt(2))**2:\n",
    "\n",
    "                    # ax.scatter(x*binary_mag_map.ang_res, y*binary_mag_map.ang_res, s=50, marker='+')\n",
    "\n",
    "                    dx = x + sub_x - x_center\n",
    "                    dy = y + sub_y - y_center\n",
    "\n",
    "                    # ax.scatter((dx+x_center)*binary_mag_map.ang_res, (dy+y_center)*binary_mag_map.ang_res, s=1)\n",
    "\n",
    "                    distances_squared = dx**2 + dy**2\n",
    "                    fraction = np.sum(distances_squared <= radius**2) / (ss * ss)\n",
    "\n",
    "                    total += brightness[i, j] * fraction\n",
    "    \n",
    "    print(t.time() - i_time)\n",
    "\n",
    "    return total\n"
   ]
  },
  {
   "cell_type": "code",
   "execution_count": 89,
   "id": "3c3e62e7",
   "metadata": {},
   "outputs": [],
   "source": [
    "# Random 2D brightness grid\n",
    "# brightness = binary_mag_map.magnifications\n",
    "brightness = convolved_binary_brightnesses"
   ]
  },
  {
   "cell_type": "code",
   "execution_count": 90,
   "id": "41c281be",
   "metadata": {},
   "outputs": [
    {
     "name": "stdout",
     "output_type": "stream",
     "text": [
      "7.987022399902344e-05\n",
      "0.0809640884399414\n",
      "\n",
      "Result: 668477773.6380467\n"
     ]
    }
   ],
   "source": [
    "# Circle parameters\n",
    "x_center = 0.0141\n",
    "y_center = 0.001\n",
    "radius = 1e-3\n",
    "\n",
    "fig = plt.figure(figsize=(10, 8))\n",
    "ax = fig.add_subplot()\n",
    "\n",
    "ax.imshow(brightness, extent=[-binary_mag_map.ang_width/2, binary_mag_map.ang_width/2, -binary_mag_map.ang_width/2, binary_mag_map.ang_width/2])\n",
    "\n",
    "# Compute brightness sum\n",
    "result = compute_fractional_circle_sum_centered(brightness, x_center, y_center, radius, ax, supersample=10)\n",
    "print('\\nResult:', result)\n",
    "\n",
    "circle = patches.Circle((x_center, y_center), radius=radius, edgecolor='red', fill=True, alpha=0.5, facecolor='gray')\n",
    "ax.add_patch(circle)\n",
    "\n",
    "plt.show()"
   ]
  },
  {
   "cell_type": "code",
   "execution_count": 91,
   "id": "e91084aa",
   "metadata": {},
   "outputs": [
    {
     "name": "stdout",
     "output_type": "stream",
     "text": [
      "7.081031799316406e-05\n",
      "0.0813300609588623\n",
      "\n",
      "Result: 668477773.6380467\n"
     ]
    }
   ],
   "source": [
    "# Circle parameters\n",
    "x_center = 0.0141\n",
    "y_center = 0.001\n",
    "radius = 1e-3\n",
    "\n",
    "fig = plt.figure(figsize=(10, 8))\n",
    "ax = fig.add_subplot()\n",
    "\n",
    "ax.imshow(brightness, extent=[-binary_mag_map.ang_width/2, binary_mag_map.ang_width/2, -binary_mag_map.ang_width/2, binary_mag_map.ang_width/2])\n",
    "\n",
    "# Compute brightness sum\n",
    "result = compute_fractional_circle_sum_centered(brightness, x_center, y_center, radius, ax, supersample=10)\n",
    "print('\\nResult:', result)\n",
    "\n",
    "circle = patches.Circle((x_center, y_center), radius=radius, edgecolor='red', fill=True, alpha=0.5, facecolor='gray')\n",
    "ax.add_patch(circle)\n",
    "\n",
    "plt.show()"
   ]
  },
  {
   "cell_type": "code",
   "execution_count": null,
   "id": "a6b98b58",
   "metadata": {},
   "outputs": [],
   "source": []
  }
 ],
 "metadata": {
  "kernelspec": {
   "display_name": ".venv",
   "language": "python",
   "name": "python3"
  },
  "language_info": {
   "codemirror_mode": {
    "name": "ipython",
    "version": 3
   },
   "file_extension": ".py",
   "mimetype": "text/x-python",
   "name": "python",
   "nbconvert_exporter": "python",
   "pygments_lexer": "ipython3",
   "version": "3.11.0"
  }
 },
 "nbformat": 4,
 "nbformat_minor": 5
}
