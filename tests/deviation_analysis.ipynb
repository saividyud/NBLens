{
 "cells": [
  {
   "cell_type": "markdown",
   "id": "65a1c827",
   "metadata": {},
   "source": [
    "Subtract convolved single lens magnification map (analytic) from this and then plot fractional deviations:\n",
    "- Want to explore how small of a mass ratio you can detect the second planet\n",
    "- Plot difference of this magnification map and most massive planet and star\n",
    "- See how small you can make the small planet before it is nondetectable\n",
    "- Later: add additional planets\n",
    "\n",
    "(Triple - binary) / binary\n",
    "- Plot grid of changing seperation and planet mass ratio to see how deviation changes\n",
    "- Later on explore multiple planets and then adding moons...\n",
    "- Later later on add in orbital motion and see what happens\n",
    "\n",
    "Trajectories:\n",
    "- Through fractional deviation map"
   ]
  },
  {
   "cell_type": "markdown",
   "id": "f4e9ac2b",
   "metadata": {},
   "source": [
    "Importing relevant libraries and timing custom library imports"
   ]
  },
  {
   "cell_type": "code",
   "execution_count": null,
   "id": "b6a36c0d",
   "metadata": {},
   "outputs": [
    {
     "name": "stdout",
     "output_type": "stream",
     "text": [
      "The autoreload extension is already loaded. To reload it, use:\n",
      "  %reload_ext autoreload\n",
      "Import time: 0.00 seconds\n",
      "Import time: 0.00 seconds\n"
     ]
    }
   ],
   "source": [
    "%matplotlib tk\n",
    "\n",
    "%load_ext autoreload\n",
    "%autoreload 2\n",
    "\n",
    "import time as t\n",
    "\n",
    "import numpy as np\n",
    "import matplotlib.pyplot as plt\n",
    "\n",
    "import matplotlib.patches as patches\n",
    "import matplotlib.collections as collections\n",
    "\n",
    "import sys\n",
    "sys.path.append('..')\n",
    "\n",
    "# Timing imports\n",
    "start = t.time()\n",
    "from IRSMicroLensing import IRSCaustics as IRSC\n",
    "print(f\"Import time: {t.time() - start:.2f} seconds\")\n",
    "\n",
    "start = t.time()\n",
    "from IRSMicroLensing import IRSFunctions as IRSF\n",
    "print(f\"Import time: {t.time() - start:.2f} seconds\")"
   ]
  },
  {
   "cell_type": "markdown",
   "id": "a28a998d",
   "metadata": {},
   "source": [
    "Defining binary lens attributes and finding the most optimal angular width and thickness to find all central caustics"
   ]
  },
  {
   "cell_type": "code",
   "execution_count": 5,
   "id": "ae66576b",
   "metadata": {},
   "outputs": [
    {
     "name": "stdout",
     "output_type": "stream",
     "text": [
      "Angular width: 0.07680319680319682\n",
      "Thickness: 0.07680319680319682\n"
     ]
    }
   ],
   "source": [
    "# Big planet position\n",
    "s1 = 0.8\n",
    "alpha1 = 0\n",
    "\n",
    "# Small planet position\n",
    "s2 = s1\n",
    "alpha2 = 30\n",
    "\n",
    "# Small planet mass ratios\n",
    "# upper_bound = -7\n",
    "# lower_bound = -16\n",
    "\n",
    "upper_bound = -3\n",
    "lower_bound = -12\n",
    "\n",
    "# Colormap\n",
    "cmap = 'gray'\n",
    "\n",
    "# Defining binary lens parameters\n",
    "binary_lens_attributes = [\n",
    "    [0, 0, 0.01, 1],\n",
    "    [s1*np.cos(np.deg2rad(alpha1)), s1*np.sin(np.deg2rad(alpha1)), 0.01, 1e-3]\n",
    "]\n",
    "\n",
    "# Creating a list of all lenses\n",
    "complete_lens_attributes = binary_lens_attributes.copy()\n",
    "\n",
    "for i in range(upper_bound, lower_bound, -1):\n",
    "    complete_lens_attributes.append(\n",
    "        [s2*np.cos(np.deg2rad(alpha2)), s2*np.sin(np.deg2rad(alpha2)), 0.01, 10**(i)] # Small mass\n",
    "    )\n",
    "\n",
    "# Finding best angular width and thickness\n",
    "ang_width, thickness, caustic_cusps = IRSC.IRSCaustics.ang_width_thickness_calculator(lens_att=complete_lens_attributes)\n",
    "\n",
    "print(f\"Angular width: {ang_width}\")\n",
    "print(f\"Thickness: {thickness}\")"
   ]
  },
  {
   "cell_type": "markdown",
   "id": "8e82abd3",
   "metadata": {},
   "source": [
    "Creating a list of lens attributes that includes each trinary configuration"
   ]
  },
  {
   "cell_type": "code",
   "execution_count": 6,
   "id": "bd8a423e",
   "metadata": {},
   "outputs": [
    {
     "name": "stdout",
     "output_type": "stream",
     "text": [
      "Number of trinary systems: 9\n"
     ]
    }
   ],
   "source": [
    "# Probing mass space to see what the smallest mass detectable is\n",
    "trinary_lens_attributes_list = []\n",
    "\n",
    "for i in range(upper_bound, lower_bound, -1):\n",
    "    trinary = binary_lens_attributes.copy()\n",
    "    trinary.append(\n",
    "        [0.8, 0.001, 0.01, 10**(i)] # Small mass\n",
    "    )\n",
    "\n",
    "    trinary_lens_attributes_list.append(trinary)\n",
    "\n",
    "print(f'Number of trinary systems: {len(trinary_lens_attributes_list)}')"
   ]
  },
  {
   "cell_type": "markdown",
   "id": "bbd28b2f",
   "metadata": {},
   "source": [
    "Initializing magnification map calculator objects"
   ]
  },
  {
   "cell_type": "code",
   "execution_count": 22,
   "id": "5607319b",
   "metadata": {},
   "outputs": [
    {
     "name": "stdout",
     "output_type": "stream",
     "text": [
      "Creating mesh grid: 0.074 seconds\n",
      "Calculating source pixels: 0.365 seconds\n",
      "Calculating indices of translated pixel after deflection: 0.327 seconds\n",
      "Calculating translated pixels: 0.513 seconds\n",
      "Finding pixel repetitions and counts: 0.212 seconds\n",
      "Incrementing pixel magnifications based on counts and repetitions: 0.224 seconds\n",
      "Plotting magnification map: 0.234 seconds\n",
      "---------------------\n",
      "Total time: 2.292 seconds\n"
     ]
    }
   ],
   "source": [
    "binary_param_dict = {'pixels': 5000, 'ang_width': ang_width, 'lens_att': binary_lens_attributes, 'thickness': thickness, 'num_r': 12000, 'num_theta': 3000}\n",
    "binary_mag_map = IRSC.IRSCaustics(annulus_param_dict=binary_param_dict)\n",
    "\n",
    "binary_magnifications = binary_mag_map.plot(show_lenses=False, cmap=cmap, show_plot=True)\n",
    "\n",
    "plt.show()"
   ]
  },
  {
   "cell_type": "markdown",
   "id": "de806cb2",
   "metadata": {},
   "source": [
    "Defining source profile for convolution"
   ]
  },
  {
   "cell_type": "code",
   "execution_count": 8,
   "id": "5c102ed0",
   "metadata": {},
   "outputs": [],
   "source": [
    "radius = 1e-3\n",
    "LD = 0.5\n",
    "\n",
    "source_profile = IRSF.IRSFunctions.source_profile(ang_res=binary_mag_map.param_dict['ang_res'], rad=radius, profile_type='LD', LD=LD)\n",
    "\n",
    "fig = plt.figure(figsize=(10, 8))\n",
    "ax = fig.add_subplot()\n",
    "img = ax.imshow(source_profile, cmap='afmhot', extent=[-radius, radius, -radius, radius], aspect='auto', interpolation='nearest')\n",
    "plt.colorbar(img, ax=ax, label='Source Brightness')\n",
    "\n",
    "ax.set_xlabel('X [$\\\\theta_E$]')\n",
    "ax.set_ylabel('Y [$\\\\theta_E$]')\n",
    "ax.set_title('Source Profile')\n",
    "\n",
    "ax.set_aspect('equal')\n",
    "\n",
    "plt.show()"
   ]
  },
  {
   "cell_type": "markdown",
   "id": "1d3fccbe",
   "metadata": {},
   "source": [
    "Convolving binary brightnesses with source profile"
   ]
  },
  {
   "cell_type": "code",
   "execution_count": 9,
   "id": "83ded799",
   "metadata": {},
   "outputs": [
    {
     "name": "stdout",
     "output_type": "stream",
     "text": [
      "Convolving source profile with magnification map: 0.871 seconds\n"
     ]
    }
   ],
   "source": [
    "convolved_binary_brightnesses = binary_mag_map.convolve(source_profile=source_profile)\n",
    "\n",
    "fig = plt.figure(figsize=(10, 8))\n",
    "ax = fig.add_subplot()\n",
    "img = ax.imshow(convolved_binary_brightnesses, cmap=cmap, extent=[-binary_mag_map.ang_width/2, binary_mag_map.ang_width/2, -binary_mag_map.ang_width/2, binary_mag_map.ang_width/2])\n",
    "plt.colorbar(img, ax=ax, label='Convolved Brightness')\n",
    "\n",
    "ax.set_title('Convolved Brightnesses of Binary Lens')\n",
    "ax.set_xlabel('X [$\\\\theta_E$]')\n",
    "ax.set_ylabel('Y [$\\\\theta_E]$')\n",
    "\n",
    "plt.show()"
   ]
  },
  {
   "cell_type": "markdown",
   "id": "f1adc395",
   "metadata": {},
   "source": [
    "Calculating convolved brightnesses and their deviation from binary brightness for each trinary configuration"
   ]
  },
  {
   "cell_type": "code",
   "execution_count": 10,
   "id": "b559be84",
   "metadata": {},
   "outputs": [
    {
     "name": "stdout",
     "output_type": "stream",
     "text": [
      "\n",
      "Calculating trinary lens magnification map 1/9\n",
      "Creating mesh grid: 0.082 seconds\n",
      "Calculating source pixels: 1.176 seconds\n",
      "Calculating indices of translated pixel after deflection: 0.425 seconds\n",
      "Calculating translated pixels: 0.693 seconds\n",
      "Finding pixel repetitions and counts: 0.328 seconds\n",
      "Incrementing pixel magnifications based on counts and repetitions: 0.234 seconds\n",
      "---------------------\n",
      "Total time: 3.236 seconds\n",
      "Convolving source profile with magnification map: 0.797 seconds\n",
      "\n",
      "Calculating trinary lens magnification map 2/9\n",
      "Creating mesh grid: 0.075 seconds\n",
      "Calculating source pixels: 1.405 seconds\n",
      "Calculating indices of translated pixel after deflection: 0.343 seconds\n",
      "Calculating translated pixels: 0.774 seconds\n",
      "Finding pixel repetitions and counts: 0.281 seconds\n",
      "Incrementing pixel magnifications based on counts and repetitions: 0.297 seconds\n",
      "---------------------\n",
      "Total time: 3.478 seconds\n",
      "Convolving source profile with magnification map: 0.797 seconds\n",
      "\n",
      "Calculating trinary lens magnification map 3/9\n",
      "Creating mesh grid: 0.077 seconds\n",
      "Calculating source pixels: 0.921 seconds\n",
      "Calculating indices of translated pixel after deflection: 0.32 seconds\n",
      "Calculating translated pixels: 0.863 seconds\n",
      "Finding pixel repetitions and counts: 0.296 seconds\n",
      "Incrementing pixel magnifications based on counts and repetitions: 0.358 seconds\n",
      "---------------------\n",
      "Total time: 3.138 seconds\n",
      "Convolving source profile with magnification map: 0.791 seconds\n",
      "\n",
      "Calculating trinary lens magnification map 4/9\n",
      "Creating mesh grid: 0.079 seconds\n",
      "Calculating source pixels: 0.866 seconds\n",
      "Calculating indices of translated pixel after deflection: 0.327 seconds\n",
      "Calculating translated pixels: 0.823 seconds\n",
      "Finding pixel repetitions and counts: 0.302 seconds\n",
      "Incrementing pixel magnifications based on counts and repetitions: 0.352 seconds\n",
      "---------------------\n",
      "Total time: 3.05 seconds\n",
      "Convolving source profile with magnification map: 0.791 seconds\n",
      "\n",
      "Calculating trinary lens magnification map 5/9\n",
      "Creating mesh grid: 0.073 seconds\n",
      "Calculating source pixels: 0.9 seconds\n",
      "Calculating indices of translated pixel after deflection: 0.321 seconds\n",
      "Calculating translated pixels: 0.82 seconds\n",
      "Finding pixel repetitions and counts: 0.328 seconds\n",
      "Incrementing pixel magnifications based on counts and repetitions: 0.341 seconds\n",
      "---------------------\n",
      "Total time: 3.096 seconds\n",
      "Convolving source profile with magnification map: 0.793 seconds\n",
      "\n",
      "Calculating trinary lens magnification map 6/9\n",
      "Creating mesh grid: 0.073 seconds\n",
      "Calculating source pixels: 0.87 seconds\n",
      "Calculating indices of translated pixel after deflection: 0.328 seconds\n",
      "Calculating translated pixels: 0.913 seconds\n",
      "Finding pixel repetitions and counts: 0.309 seconds\n",
      "Incrementing pixel magnifications based on counts and repetitions: 0.368 seconds\n",
      "---------------------\n",
      "Total time: 3.167 seconds\n",
      "Convolving source profile with magnification map: 0.794 seconds\n",
      "\n",
      "Calculating trinary lens magnification map 7/9\n",
      "Creating mesh grid: 0.077 seconds\n",
      "Calculating source pixels: 0.781 seconds\n",
      "Calculating indices of translated pixel after deflection: 0.355 seconds\n",
      "Calculating translated pixels: 0.888 seconds\n",
      "Finding pixel repetitions and counts: 0.382 seconds\n",
      "Incrementing pixel magnifications based on counts and repetitions: 0.348 seconds\n",
      "---------------------\n",
      "Total time: 3.151 seconds\n",
      "Convolving source profile with magnification map: 0.799 seconds\n",
      "\n",
      "Calculating trinary lens magnification map 8/9\n",
      "Creating mesh grid: 0.076 seconds\n",
      "Calculating source pixels: 1.065 seconds\n",
      "Calculating indices of translated pixel after deflection: 0.341 seconds\n",
      "Calculating translated pixels: 0.718 seconds\n",
      "Finding pixel repetitions and counts: 0.307 seconds\n",
      "Incrementing pixel magnifications based on counts and repetitions: 0.228 seconds\n",
      "---------------------\n",
      "Total time: 3.056 seconds\n",
      "Convolving source profile with magnification map: 0.799 seconds\n",
      "\n",
      "Calculating trinary lens magnification map 9/9\n",
      "Creating mesh grid: 0.07 seconds\n",
      "Calculating source pixels: 1.027 seconds\n",
      "Calculating indices of translated pixel after deflection: 0.324 seconds\n",
      "Calculating translated pixels: 0.787 seconds\n",
      "Finding pixel repetitions and counts: 0.322 seconds\n",
      "Incrementing pixel magnifications based on counts and repetitions: 0.313 seconds\n",
      "---------------------\n",
      "Total time: 3.149 seconds\n",
      "Convolving source profile with magnification map: 0.802 seconds\n"
     ]
    }
   ],
   "source": [
    "# Defining list of instances of IRSCaustics for trinary lens\n",
    "trinary_mag_map_list = []\n",
    "\n",
    "# Creating a list of convolved brightnesses for each trinary lens\n",
    "convolved_trinary_brightnesses_list = []\n",
    "\n",
    "# List of convolved brightness difference for each trinary lens\n",
    "convolved_brightness_differences_list = []\n",
    "\n",
    "# Main for loop for each trinary lens configuration\n",
    "for i in range(len(trinary_lens_attributes_list)):\n",
    "    # Creating instance of IRSCaustics for trinary lens\n",
    "    trinary_param_dict = binary_param_dict.copy()\n",
    "    trinary_param_dict['lens_att'] = trinary_lens_attributes_list[i]\n",
    "    trinary_mag_map_list.append(IRSC.IRSCaustics(annulus_param_dict=trinary_param_dict))\n",
    "\n",
    "    print()\n",
    "    print(f\"Calculating trinary lens magnification map {i+1}/{len(trinary_lens_attributes_list)}\")\n",
    "    trinary_magnifications = trinary_mag_map_list[i].plot(show_lenses=False, cmap=cmap, show_plot=False)\n",
    "\n",
    "    # Convolving each magnification map with the source profile\n",
    "    convolved_trinary_brightnesses_list.append(trinary_mag_map_list[i].convolve(source_profile=source_profile))\n",
    "\n",
    "    # Plotting difference between convolved magnification maps\n",
    "    convolved_brightness_differences_list.append((convolved_trinary_brightnesses_list[i] - convolved_binary_brightnesses) / convolved_binary_brightnesses)"
   ]
  },
  {
   "cell_type": "markdown",
   "id": "8ee2a680",
   "metadata": {},
   "source": [
    "Finding maximum and minimum deviation for all trinary configurations"
   ]
  },
  {
   "cell_type": "code",
   "execution_count": 11,
   "id": "73315855",
   "metadata": {},
   "outputs": [
    {
     "name": "stdout",
     "output_type": "stream",
     "text": [
      "2.186792617191394\n",
      "0.4641218900937613\n",
      "0.0580457441062578\n",
      "0.015022898080392463\n",
      "0.014345099542052252\n",
      "0.014159692291684046\n",
      "0.014159692291690586\n",
      "0.014159692291685328\n",
      "0.014159692291693152\n",
      "\n",
      "Absolute max: 2.186792617191394\n",
      "\n",
      "-0.7746292208374551\n",
      "-0.4340654386522729\n",
      "-0.08918589664577507\n",
      "-0.01466061924495023\n",
      "-0.013666407171089376\n",
      "-0.013770782402839393\n",
      "-0.013770782402836898\n",
      "-0.013770782402838145\n",
      "-0.013770782402834279\n",
      "\n",
      "Absolute min: -0.7746292208374551\n"
     ]
    }
   ],
   "source": [
    "# Finding max of all convolved brightness differences\n",
    "for i in range(len(convolved_brightness_differences_list)):\n",
    "    print(np.max(convolved_brightness_differences_list[i]))\n",
    "\n",
    "absolute_max = np.max(convolved_brightness_differences_list)\n",
    "print(f\"\\nAbsolute max: {absolute_max}\")\n",
    "\n",
    "print()\n",
    "# Finding max of all convolved brightness differences\n",
    "for i in range(len(convolved_brightness_differences_list)):\n",
    "    print(np.min(convolved_brightness_differences_list[i]))\n",
    "\n",
    "absolute_min = np.min(convolved_brightness_differences_list)\n",
    "print(f\"\\nAbsolute min: {absolute_min}\")"
   ]
  },
  {
   "cell_type": "markdown",
   "id": "637403e2",
   "metadata": {},
   "source": [
    "Plotting the deviation for each trinary configuration"
   ]
  },
  {
   "cell_type": "code",
   "execution_count": 12,
   "id": "9f218e49",
   "metadata": {},
   "outputs": [],
   "source": [
    "fig = plt.figure(figsize=(12, 12))\n",
    "axes = fig.subplots(3, 3)\n",
    "\n",
    "fig.suptitle('\\nConvolved Brightness Fractional Differences for Trinary Lenses', fontsize=16)\n",
    "\n",
    "for i in range(len(trinary_lens_attributes_list)):\n",
    "    if i < 3:\n",
    "        ax = axes[0, i]\n",
    "    elif i < 6:\n",
    "        ax = axes[1, i-3]\n",
    "    else:\n",
    "        ax = axes[2, i-6]\n",
    "\n",
    "    img = ax.imshow(convolved_brightness_differences_list[i], cmap=cmap, extent=[-binary_mag_map.ang_width/2, binary_mag_map.ang_width/2, -binary_mag_map.ang_width/2, binary_mag_map.ang_width/2], vmin=absolute_min, vmax=absolute_max)\n",
    "    \n",
    "    ax.set_title(f\"Planet Mass Ratio: {trinary_lens_attributes_list[i][2][3] / binary_lens_attributes[1][3]:.2e}\")\n",
    "    # ax.set_xlabel('X [$\\\\theta_E$]')\n",
    "    # ax.set_ylabel('Y [$\\\\theta_E]$')\n",
    "    ax.axis('off')\n",
    "    ax.set_xlim(-binary_mag_map.ang_width/2, binary_mag_map.ang_width/2)\n",
    "    ax.set_ylim(-binary_mag_map.ang_width/2, binary_mag_map.ang_width/2)\n",
    "\n",
    "    props = dict(boxstyle='round', facecolor='white', edgecolor='lightgray', alpha=0.8)\n",
    "    ax.text(0.02, 0.98, f'Max = {round(np.max(convolved_brightness_differences_list[i]), 18)}\\nMin = {round(np.min(convolved_brightness_differences_list[i]), 18)}', va='top', zorder=10, bbox=props, transform=ax.transAxes)\n",
    "\n",
    "cbar_ax = fig.add_axes([0.92, 0.15, 0.02, 0.7])\n",
    "cbar_ax.axis('off')\n",
    "\n",
    "bar = fig.colorbar(img, ax=cbar_ax, location='right', fraction=1.5, aspect=20)\n",
    "bar.set_label('Fractional Difference')\n",
    "\n",
    "fig.savefig('Trinary Lens Convolved Convolved Fractional Difference.png', dpi=500)\n",
    "\n",
    "plt.show()"
   ]
  },
  {
   "cell_type": "markdown",
   "id": "0d2104c4",
   "metadata": {},
   "source": [
    "Defining source trajectory"
   ]
  },
  {
   "cell_type": "code",
   "execution_count": 25,
   "id": "3db4d292",
   "metadata": {},
   "outputs": [],
   "source": [
    "# Removing any present lines from magnification map\n",
    "for child in binary_mag_map.ax_c.get_children():\n",
    "    if isinstance(child, (collections.PathCollection, collections.PatchCollection)):\n",
    "        child.remove()\n",
    "\n",
    "# Impact parameter\n",
    "u = -2e-3\n",
    "\n",
    "# Angle from x axis\n",
    "alpha = 45\n",
    "\n",
    "# Number of points\n",
    "num_points = 100\n",
    "\n",
    "# Discretizing the source trajectory\n",
    "xs_prime = np.linspace(-binary_mag_map.ang_width/np.sqrt(2), binary_mag_map.ang_width/np.sqrt(2), num_points).reshape(1, num_points)\n",
    "ys_prime = np.ones((1, num_points)) * u\n",
    "\n",
    "points_prime = np.vstack((xs_prime, ys_prime))\n",
    "\n",
    "# Rotating the source trajectory\n",
    "rotation_matrix = np.array([[np.cos(np.radians(alpha)), -np.sin(np.radians(alpha))],\n",
    "                             [np.sin(np.radians(alpha)), np.cos(np.radians(alpha))]])\n",
    "\n",
    "points = np.dot(rotation_matrix, points_prime)\n",
    "\n",
    "# Extracting x and y coordinates\n",
    "xs = points[0]\n",
    "ys = points[1]\n",
    "\n",
    "# Plotting the source trajectory\n",
    "circles = [patches.Circle((x, y), radius=radius, color='red', alpha=0.5, fill=False) for x, y in zip(xs, ys)]\n",
    "c = collections.PatchCollection(circles, match_original=True, zorder=50)\n",
    "binary_mag_map.ax_c.add_collection(c)\n",
    "# binary_mag_map.ax_c.scatter(xs, ys, s=radius, color='red', zorder=50)\n",
    "\n",
    "binary_mag_map.fig_c.show()"
   ]
  },
  {
   "cell_type": "code",
   "execution_count": 61,
   "id": "92d374bb",
   "metadata": {},
   "outputs": [],
   "source": [
    "import numpy as np\n",
    "\n",
    "def compute_fractional_circle_sum_centered(brightness, x_center, y_center, radius, ax, supersample=11):\n",
    "    \"\"\"\n",
    "    Compute the brightness sum within a circle of given radius, centered at (x_center, y_center),\n",
    "    using a coordinate system where (0, 0) is the center of the array.\n",
    "    \n",
    "    Parameters:\n",
    "        brightness (2D array): The brightness grid, shape (H, W)\n",
    "        x_center, y_center (float): Circle center in (0,0)-centered coordinates\n",
    "        radius (float): Radius of the circle in pixels\n",
    "        supersample (int): Supersampling resolution per pixel\n",
    "        \n",
    "    Returns:\n",
    "        float: Weighted sum of brightness values within the circle\n",
    "    \"\"\"\n",
    "    H, W = brightness.shape\n",
    "    cy, cx = H // 2, W // 2  # center pixel coordinates\n",
    "\n",
    "    print(cy, cx)\n",
    "\n",
    "    # Convert from centered coordinates to array indices\n",
    "    j_center = x_center + cx\n",
    "    i_center = y_center + cy\n",
    "\n",
    "    floor_x = int(np.floor(j_center - radius))\n",
    "    ceil_x = int(np.ceil(j_center + radius))\n",
    "    floor_y = int(np.floor(i_center - radius))\n",
    "    ceil_y = int(np.ceil(i_center + radius))\n",
    "\n",
    "    print(floor_x, ceil_x)\n",
    "    print(floor_y, ceil_y)\n",
    "\n",
    "    total = 0.0\n",
    "\n",
    "    # Supersampling grid\n",
    "    ss = supersample\n",
    "    offsets = np.linspace(-0.5 + 0.5/ss, 0.5 - 0.5/ss, ss)\n",
    "    sub_x, sub_y = np.meshgrid(offsets, offsets)\n",
    "\n",
    "    for i in range(floor_y, ceil_y + 1):\n",
    "        for j in range(floor_x, ceil_x + 1):\n",
    "            if i < 0 or i >= H or j < 0 or j >= W:\n",
    "                continue\n",
    "            \n",
    "            # Get physical coordinates of the pixel center\n",
    "            x = j - cx\n",
    "            y = i - cy\n",
    "\n",
    "            print(x, y)\n",
    "\n",
    "            dx = x + sub_x - x_center\n",
    "            dy = y + sub_y - y_center\n",
    "\n",
    "            ax.scatter(dx+x_center, dy+y_center, s=1, color='blue', alpha=0.5)\n",
    "\n",
    "            distances_squared = dx**2 + dy**2\n",
    "            fraction = np.sum(distances_squared <= radius**2) / (ss * ss)\n",
    "\n",
    "            total += brightness[i, j] * fraction\n",
    "\n",
    "    return total\n"
   ]
  },
  {
   "cell_type": "code",
   "execution_count": 63,
   "id": "cff9cb90",
   "metadata": {},
   "outputs": [
    {
     "name": "stdout",
     "output_type": "stream",
     "text": [
      "50 50\n",
      "48 52\n",
      "48 52\n",
      "-2 -2\n",
      "-1 -2\n",
      "0 -2\n",
      "1 -2\n",
      "2 -2\n",
      "-2 -1\n",
      "-1 -1\n",
      "0 -1\n",
      "1 -1\n",
      "2 -1\n",
      "-2 0\n",
      "-1 0\n",
      "0 0\n",
      "1 0\n",
      "2 0\n",
      "-2 1\n",
      "-1 1\n",
      "0 1\n",
      "1 1\n",
      "2 1\n",
      "-2 2\n",
      "-1 2\n",
      "0 2\n",
      "1 2\n",
      "2 2\n",
      "49.65289256198347\n"
     ]
    }
   ],
   "source": [
    "# Random 2D brightness grid\n",
    "brightness = np.random.randint(0, 10, (101, 101))\n",
    "\n",
    "# Circle parameters\n",
    "x_center = 0\n",
    "y_center = 0\n",
    "radius = 2\n",
    "\n",
    "fig = plt.figure(figsize=(10, 8))\n",
    "ax = fig.add_subplot()\n",
    "\n",
    "ax.imshow(brightness, extent=[-50.5, 50.5, -50.5, 50.5])\n",
    "\n",
    "# Compute brightness sum\n",
    "result = compute_fractional_circle_sum_centered(brightness, x_center, y_center, radius, ax)\n",
    "print(result)\n",
    "\n",
    "circle = patches.Circle((x_center, y_center), radius=radius, edgecolor='red', fill=True, alpha=0.5, facecolor='gray')\n",
    "ax.add_patch(circle)\n",
    "\n",
    "plt.show()"
   ]
  },
  {
   "cell_type": "code",
   "execution_count": null,
   "id": "6855dd9b",
   "metadata": {},
   "outputs": [],
   "source": []
  }
 ],
 "metadata": {
  "kernelspec": {
   "display_name": ".venv",
   "language": "python",
   "name": "python3"
  },
  "language_info": {
   "codemirror_mode": {
    "name": "ipython",
    "version": 3
   },
   "file_extension": ".py",
   "mimetype": "text/x-python",
   "name": "python",
   "nbconvert_exporter": "python",
   "pygments_lexer": "ipython3",
   "version": "3.11.0"
  }
 },
 "nbformat": 4,
 "nbformat_minor": 5
}
