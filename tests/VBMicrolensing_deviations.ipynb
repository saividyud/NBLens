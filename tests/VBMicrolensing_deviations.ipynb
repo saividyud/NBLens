{
 "cells": [
  {
   "cell_type": "markdown",
   "id": "f7d0e1cc",
   "metadata": {},
   "source": [
    "## Compute the change in distance of the cusp closest to (0, 0) as a function of planet ratio and small planet seperation, $s_{small}$"
   ]
  },
  {
   "cell_type": "code",
   "execution_count": 194,
   "id": "5e9d008d",
   "metadata": {},
   "outputs": [
    {
     "name": "stdout",
     "output_type": "stream",
     "text": [
      "The autoreload extension is already loaded. To reload it, use:\n",
      "  %reload_ext autoreload\n"
     ]
    }
   ],
   "source": [
    "%matplotlib tk\n",
    "\n",
    "%load_ext autoreload\n",
    "%autoreload 2\n",
    "\n",
    "import time as t\n",
    "\n",
    "import numpy as np\n",
    "import matplotlib.pyplot as plt\n",
    "import scipy as sci\n",
    "import sklearn as sk\n",
    "\n",
    "import matplotlib.patches as patches\n",
    "import matplotlib.collections as collections\n",
    "\n",
    "import VBMicrolensing"
   ]
  },
  {
   "cell_type": "markdown",
   "id": "a5e25f51",
   "metadata": {},
   "source": [
    "## Initializing VBMicrolensing"
   ]
  },
  {
   "cell_type": "code",
   "execution_count": 172,
   "id": "2adcd0c0",
   "metadata": {},
   "outputs": [],
   "source": [
    "VBM = VBMicrolensing.VBMicrolensing()\n",
    "\n",
    "# Set relative accuracy\n",
    "VBM.RelTol = 1e-03\n",
    "\n",
    "# Set accuracy\n",
    "VBM.Tol=1e-03"
   ]
  },
  {
   "cell_type": "markdown",
   "id": "f2da67ff",
   "metadata": {},
   "source": [
    "## Defining binary lens attributes and finding the most optimal angular width and thickness to find all central caustics"
   ]
  },
  {
   "cell_type": "code",
   "execution_count": 229,
   "id": "ca212b28",
   "metadata": {},
   "outputs": [],
   "source": [
    "# Big planet position\n",
    "s1 = 0.8\n",
    "alpha1 = 0\n",
    "\n",
    "# Small planet position\n",
    "s2 = s1\n",
    "alpha2 = 30\n",
    "\n",
    "# Big planet / star mass ratio\n",
    "q_big = 1\n",
    "\n",
    "# Planet mass ratio\n",
    "mass_ratios = np.linspace(0, 1, int(1e3)).reshape(int(1e3), 1)\n",
    "\n",
    "# print(mass_ratios)\n",
    "\n",
    "# Defining binary lens parameters\n",
    "binary_lens_attributes = [0, 0, 1,\n",
    "                          s1*np.cos(np.deg2rad(alpha1)), s1*np.sin(np.deg2rad(alpha1)), q_big]\n",
    "\n",
    "# Probing mass space to see what the smallest mass detectable is\n",
    "trinary_lens_attributes_list = []\n",
    "\n",
    "for i in range(len(mass_ratios)):\n",
    "    trinary = binary_lens_attributes.copy()\n",
    "    trinary.extend(\n",
    "        [s2*np.cos(np.deg2rad(alpha2)), s2*np.sin(np.deg2rad(alpha2)), mass_ratios[i] * q_big] # Small mass\n",
    "    )\n",
    "\n",
    "    trinary_lens_attributes_list.append(trinary)"
   ]
  },
  {
   "cell_type": "markdown",
   "id": "b3c96459",
   "metadata": {},
   "source": [
    "## Iterating through all triple lens configurations and computing caustics"
   ]
  },
  {
   "cell_type": "code",
   "execution_count": 230,
   "id": "4feda170",
   "metadata": {},
   "outputs": [
    {
     "name": "stderr",
     "output_type": "stream",
     "text": [
      "/var/folders/39/mb5cwg0x4h18n1y377g5rs9c0000gn/T/ipykernel_7638/137641.py:4: DeprecationWarning: Conversion of an array with ndim > 0 to a scalar is deprecated, and will error in future. Ensure you extract a single element from your array before performing this operation. (Deprecated NumPy 1.25.)\n",
      "  VBM.SetLensGeometry(config)\n"
     ]
    }
   ],
   "source": [
    "trinary_caustics_list  = []\n",
    "\n",
    "for config in trinary_lens_attributes_list:\n",
    "    VBM.SetLensGeometry(config)\n",
    "\n",
    "    caustic_points = VBM.Multicaustics()\n",
    "    for caus in caustic_points:\n",
    "        if len(caus[0]) == 400:\n",
    "            trinary_caustics_list.append(np.array(caus))\n",
    "\n",
    "# print(trinary_caustics_list)"
   ]
  },
  {
   "cell_type": "markdown",
   "id": "d950c24e",
   "metadata": {},
   "source": [
    "## Function to find all caustic cusps"
   ]
  },
  {
   "cell_type": "code",
   "execution_count": 231,
   "id": "1f56820f",
   "metadata": {},
   "outputs": [],
   "source": [
    "def find_cusp_points(caustic_points):\n",
    "    points = caustic_points.T  # Shape: (400, 2)\n",
    "\n",
    "    vectors = np.diff(points, axis=0)  # Shape: (399, 2)\n",
    "\n",
    "    norms = np.linalg.norm(vectors, axis=1, keepdims=True)\n",
    "    unit_vectors = vectors / norms\n",
    "\n",
    "    dot_products = np.sum(unit_vectors[:-1] * unit_vectors[1:], axis=1)\n",
    "    dot_products = np.clip(dot_products, -1.0, 1.0)  # Clip to avoid numerical errors\n",
    "    angles = np.rad2deg(np.arccos(dot_products))  # In degrees\n",
    "\n",
    "    cusp_indices = np.where(angles > 50)[0] + 1  # +1 to shift to the index of the corner point\n",
    "\n",
    "    return caustic_points[0, cusp_indices], caustic_points[1, cusp_indices]"
   ]
  },
  {
   "cell_type": "markdown",
   "id": "c89198d1",
   "metadata": {},
   "source": [
    "## Iterating through all triple lens configurations and computing the deviation of central cusp from binary case (first case)"
   ]
  },
  {
   "cell_type": "code",
   "execution_count": 232,
   "id": "6c44f837",
   "metadata": {},
   "outputs": [
    {
     "ename": "IndexError",
     "evalue": "list index out of range",
     "output_type": "error",
     "traceback": [
      "\u001b[0;31m---------------------------------------------------------------------------\u001b[0m",
      "\u001b[0;31mIndexError\u001b[0m                                Traceback (most recent call last)",
      "Cell \u001b[0;32mIn[232], line 1\u001b[0m\n\u001b[0;32m----> 1\u001b[0m binary_caustic \u001b[38;5;241m=\u001b[39m \u001b[43mtrinary_caustics_list\u001b[49m\u001b[43m[\u001b[49m\u001b[38;5;241;43m0\u001b[39;49m\u001b[43m]\u001b[49m\n\u001b[1;32m      3\u001b[0m binary_xs, binary_ys \u001b[38;5;241m=\u001b[39m find_cusp_points(binary_caustic)\n\u001b[1;32m      4\u001b[0m binary_distances \u001b[38;5;241m=\u001b[39m np\u001b[38;5;241m.\u001b[39msqrt(binary_xs\u001b[38;5;241m*\u001b[39m\u001b[38;5;241m*\u001b[39m\u001b[38;5;241m2\u001b[39m \u001b[38;5;241m+\u001b[39m binary_ys\u001b[38;5;241m*\u001b[39m\u001b[38;5;241m*\u001b[39m\u001b[38;5;241m2\u001b[39m)\n",
      "\u001b[0;31mIndexError\u001b[0m: list index out of range"
     ]
    }
   ],
   "source": [
    "binary_caustic = trinary_caustics_list[0]\n",
    "\n",
    "binary_xs, binary_ys = find_cusp_points(binary_caustic)\n",
    "binary_distances = np.sqrt(binary_xs**2 + binary_ys**2)\n",
    "binary_closest_idx = np.argmin(binary_distances)\n",
    "\n",
    "binary_cusp_x, binary_cusp_y = binary_xs[binary_closest_idx], binary_ys[binary_closest_idx]\n",
    "\n",
    "trinary_cusp_xs = np.zeros((len(trinary_caustics_list), 1))\n",
    "trinary_cusp_ys = np.zeros((len(trinary_caustics_list), 1))\n",
    "\n",
    "# trinary_cusp_rs = np.zeros((len(trinary_caustics_list), 1))\n",
    "# trinary_cusp_thetas = np.zeros((len(trinary_caustics_list), 1))\n",
    "\n",
    "for i, trinary_caustic in enumerate(trinary_caustics_list):\n",
    "    trinary_xs, trinary_ys = find_cusp_points(trinary_caustic)\n",
    "    trinary_distances = np.sqrt(trinary_xs**2 + trinary_ys**2)\n",
    "    trinary_closest_idx = np.argmin(trinary_distances)\n",
    "\n",
    "    trinary_cusp_xs[i] = trinary_xs[trinary_closest_idx]\n",
    "    trinary_cusp_ys[i] = trinary_ys[trinary_closest_idx]\n",
    "\n",
    "trinary_cusp_xs -= binary_cusp_x\n",
    "trinary_cusp_ys -= binary_cusp_y\n",
    "\n",
    "trinary_cusp_rs = np.sqrt(trinary_cusp_xs**2 + trinary_cusp_ys**2)\n",
    "trinary_cusp_thetas = np.rad2deg(np.atan2(trinary_cusp_ys, trinary_cusp_xs))"
   ]
  },
  {
   "cell_type": "code",
   "execution_count": 209,
   "id": "3e42967c",
   "metadata": {},
   "outputs": [
    {
     "name": "stdout",
     "output_type": "stream",
     "text": [
      "(1000, 1)\n",
      "(1000, 1)\n",
      "[[0.00023634]]\n",
      "[3.51762118e-06]\n",
      "0.9996646503989773\n"
     ]
    }
   ],
   "source": [
    "print(mass_ratios.shape)\n",
    "print(trinary_cusp_xs.shape)\n",
    "# result = sci.stats.linregress(mass_ratios[1:], trinary_cusp_xs[1:])\n",
    "model = sk.linear_model.LinearRegression()\n",
    "model.fit(mass_ratios[1:], trinary_cusp_xs[1:])\n",
    "\n",
    "print(model.coef_)\n",
    "print(model.intercept_)\n",
    "print(model.score(mass_ratios[1:], trinary_cusp_xs[1:]))"
   ]
  },
  {
   "cell_type": "markdown",
   "id": "0d3fc67e",
   "metadata": {},
   "source": [
    "## Plotting deviation of central cusp from binary case as a function of planet mass ratio"
   ]
  },
  {
   "cell_type": "code",
   "execution_count": 214,
   "id": "ebb3f2c5",
   "metadata": {},
   "outputs": [],
   "source": [
    "fig = plt.figure(figsize=(10, 8))\n",
    "ax = fig.add_subplot()\n",
    "\n",
    "# ax.plot(mass_ratios[1:], trinary_cusp_xs[1:], label='X Deviation')\n",
    "# ax.plot(mass_ratios[1:], trinary_cusp_ys[1:], label='Y Deviation')\n",
    "\n",
    "# ax.plot(mass_ratios[1:], trinary_cusp_rs[1:], label='Distance Deviation')\n",
    "ax.plot(mass_ratios[1:], trinary_cusp_thetas[1:], label='Angle Deviation')\n",
    "\n",
    "ax.legend()\n",
    "ax.grid()\n",
    "# ax.plot(mass_ratios[1:], trinary_cusp_thetas[1:])\n",
    "\n",
    "plt.show()"
   ]
  },
  {
   "cell_type": "code",
   "execution_count": 215,
   "id": "50ec5ded",
   "metadata": {},
   "outputs": [],
   "source": [
    "fig = plt.figure(figsize=(10, 8))\n",
    "ax = fig.add_subplot()\n",
    "\n",
    "# for trinary_caustic in trinary_caustics_list:\n",
    "#     ax.plot(trinary_caustic[0, :], trinary_caustic[1, :])\n",
    "ind = 500\n",
    "\n",
    "trinary_xs, trinary_ys = find_cusp_points(trinary_caustics_list[ind])\n",
    "\n",
    "ax.plot(trinary_caustics_list[ind][0, :], trinary_caustics_list[ind][1, :])\n",
    "ax.scatter(trinary_cusp_xs[ind] + binary_cusp_x, trinary_cusp_ys[ind] + binary_cusp_y, s=50, color='black', marker='o', facecolor='none')\n",
    "ax.scatter(trinary_xs, trinary_ys, s=20, color='red', marker='.')\n",
    "\n",
    "plt.show()"
   ]
  },
  {
   "cell_type": "code",
   "execution_count": null,
   "id": "3d542e24",
   "metadata": {},
   "outputs": [],
   "source": []
  }
 ],
 "metadata": {
  "kernelspec": {
   "display_name": ".venv",
   "language": "python",
   "name": "python3"
  },
  "language_info": {
   "codemirror_mode": {
    "name": "ipython",
    "version": 3
   },
   "file_extension": ".py",
   "mimetype": "text/x-python",
   "name": "python",
   "nbconvert_exporter": "python",
   "pygments_lexer": "ipython3",
   "version": "3.11.0"
  }
 },
 "nbformat": 4,
 "nbformat_minor": 5
}
