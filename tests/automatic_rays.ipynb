{
 "cells": [
  {
   "cell_type": "markdown",
   "id": "c7cd726b",
   "metadata": {},
   "source": [
    "# Automatically calculating number of rays to shoot based on user's desired uncertainty\n",
    "\n",
    "### Fractional uncertainty: $\\delta$\n",
    "\n",
    "### Number of rays in source plane per pixel of width $dx$:\n",
    "$n_{source} = \\dfrac{\\delta^{-2}}{dx^2}$\n",
    "\n",
    "### This gets transformed into the image plane, where the area of the pixel is scaled up by $A$, the magnification.\n",
    "### The new number of rays per area in the image plane is:\n",
    "$n_{image} = \\dfrac{\\delta^{-2}}{A dx^2}$\n",
    "\n",
    "\n",
    "### Magnification as a function of seperation from single lens:\n",
    "$A(u) = \\dfrac{u^2 + 2}{u \\sqrt{u^2 + 4}}$"
   ]
  },
  {
   "cell_type": "code",
   "execution_count": 1,
   "id": "38bc9d8c",
   "metadata": {},
   "outputs": [],
   "source": [
    "%matplotlib inline\n",
    "\n",
    "%load_ext autoreload\n",
    "%autoreload 2\n",
    "\n",
    "import numpy as np\n",
    "import matplotlib.pyplot as plt\n",
    "\n",
    "import sys\n",
    "sys.path.append('..')\n",
    "\n",
    "from IRSMicroLensing import IRSCaustics as IRSC"
   ]
  },
  {
   "cell_type": "code",
   "execution_count": 2,
   "id": "cbdf4453",
   "metadata": {},
   "outputs": [],
   "source": [
    "def A(u):\n",
    "    return (u**2 + 2) / (u * np.sqrt(u**2 + 4))"
   ]
  },
  {
   "cell_type": "code",
   "execution_count": 3,
   "id": "f092db73",
   "metadata": {},
   "outputs": [
    {
     "name": "stdout",
     "output_type": "stream",
     "text": [
      "{'pixels': 1000, 'ang_width': np.float64(0.07680319680319682), 'lens_att': [[0, 0, 0.01, 1], [0.8, 0, 0.01, 0.001]], 'thickness': np.float64(0.059738867403980045), 'num_r': 10000, 'num_theta': 5000, 'ang_res': np.float64(7.680319680319682e-05), 'pixel_density': np.float64(13020.29136316337), 'dr': np.float64(5.973886740398004e-06), 'dtheta': 0.072, 'num_rays': 50000000}\n",
      "1.030315425782361 -0.970576558378381\n",
      "Creating mesh grid: 1.178 seconds\n",
      "1 1.1756775379180908\n",
      "2 1.0547726154327393\n",
      "3 5.2928924560546875e-05\n",
      "4 6.9141387939453125e-06\n",
      "5 3.5762786865234375e-06\n",
      "6 0.00025844573974609375\n",
      "7 3.0054242610931396\n",
      "9 2.47955322265625e-05\n",
      "10 4.0531158447265625e-06\n",
      "Calculating source pixels: 5.313 seconds\n",
      "Calculating indices of translated pixel after deflection: 2.927 seconds\n"
     ]
    },
    {
     "ename": "",
     "evalue": "",
     "output_type": "error",
     "traceback": [
      "\u001b[1;31mThe Kernel crashed while executing code in the current cell or a previous cell. \n",
      "\u001b[1;31mPlease review the code in the cell(s) to identify a possible cause of the failure. \n",
      "\u001b[1;31mClick <a href='https://aka.ms/vscodeJupyterKernelCrash'>here</a> for more info. \n",
      "\u001b[1;31mView Jupyter <a href='command:jupyter.viewOutput'>log</a> for further details."
     ]
    }
   ],
   "source": [
    "lens_att = [\n",
    "    [0, 0, 0.01, 1],\n",
    "    [0.8, 0, 0.01, 0.001]\n",
    "]\n",
    "\n",
    "num_theta = 5000\n",
    "num_r = 2 * num_theta\n",
    "\n",
    "param_dict_1 = {'pixels': 1000, 'ang_width': 'auto', 'lens_att': lens_att, 'thickness': 'auto', 'num_r': num_r, 'num_theta': num_theta}\n",
    "\n",
    "mag_map_1 = IRSC.IRSCaustics(annulus_param_dict=param_dict_1)\n",
    "print(mag_map_1.param_dict)\n",
    "print(mag_map_1.y_plus, mag_map_1.y_minus)\n",
    "\n",
    "mag_map_1.plot()\n",
    "\n",
    "plt.show()"
   ]
  },
  {
   "cell_type": "code",
   "execution_count": null,
   "id": "dd67729a",
   "metadata": {},
   "outputs": [],
   "source": []
  }
 ],
 "metadata": {
  "kernelspec": {
   "display_name": "Python 3",
   "language": "python",
   "name": "python3"
  },
  "language_info": {
   "codemirror_mode": {
    "name": "ipython",
    "version": 3
   },
   "file_extension": ".py",
   "mimetype": "text/x-python",
   "name": "python",
   "nbconvert_exporter": "python",
   "pygments_lexer": "ipython3",
   "version": "3.11.12"
  }
 },
 "nbformat": 4,
 "nbformat_minor": 5
}
