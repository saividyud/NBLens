{
 "cells": [
  {
   "cell_type": "markdown",
   "metadata": {},
   "source": [
    "### Calculate size of binary caustic (https://arxiv.org/pdf/astro-ph/0505363)\n",
    "$\\cos{\\phi_c} = \\dfrac{3}{4}(s + s^{-1})\\left(1 - \\sqrt{1 - \\dfrac{32}{9}(s + s^{-1})^{-2}}\\right)$ (Equation 10)\n",
    "\n",
    "$\\Delta\\xi_c = \\dfrac{4q}{(s - s^{-1})^2}$ (Equation 11)\n",
    "\n",
    "$\\Delta\\eta_c = \\Delta\\xi_c \\dfrac{(s - s^{-1})^2|\\sin^3{\\phi_c}|}{(s + s^{-1} - 2\\cos{\\phi_c})^2}$ (Equation 12)\n",
    "\n",
    "### Calculate thickness of annulus from difference in positions of major and minor images\n",
    "$y_{\\pm} = \\pm \\dfrac{1}{2}(\\sqrt{u^2+4} \\pm u)$\n",
    "\n",
    "$t = y_{+} + y_{-} = u$\n",
    "<!-- \\sqrt{u^2 + 4}$// -->\n",
    "\n",
    "$u \\equiv$ farthest point from CM of caustic\n",
    "\n",
    "Positions of cusps:\n",
    "\n",
    "$\\xi_{c, 0\\pm} \\approx \\pm \\dfrac{q}{(1 \\pm s)(1 \\pm s^{-1})}$\n",
    "\n",
    "$\\eta_{c, 0\\pm} \\approx \\pm \\dfrac{2q|\\sin^3{\\phi_c}|}{(s + s^{-1} - 2\\cos{\\phi_c})^2}$"
   ]
  },
  {
   "cell_type": "code",
   "execution_count": 5,
   "metadata": {},
   "outputs": [],
   "source": [
    "import MulensModel as mm\n",
    "import numpy as np\n",
    "import matplotlib.pyplot as plt\n",
    "import matplotlib.pyplot as patches"
   ]
  },
  {
   "cell_type": "code",
   "execution_count": 17,
   "metadata": {},
   "outputs": [
    {
     "name": "stdout",
     "output_type": "stream",
     "text": [
      "1\n",
      "[[0.    0.    0.01  1.   ]\n",
      " [0.4   0.    0.01  0.001]]\n",
      "[[0.        0.       ]\n",
      " [0.0003996 0.       ]]\n"
     ]
    }
   ],
   "source": [
    "lens_att = [\n",
    "    [0, 0, 0.01, 1],\n",
    "    [0.4, 0, 0.01, 0.001]\n",
    "]\n",
    "\n",
    "lens_att = np.array(lens_att)\n",
    "\n",
    "L = np.shape(lens_att)[0]\n",
    "# total_M = np.sum(lens_att[:, 3])\n",
    "\n",
    "# CM_sum = 0\n",
    "# for i in range(L):\n",
    "#     CM_sum += lens_att[i, :2] * lens_att[i, 3]\n",
    "\n",
    "# lens_CM = CM_sum / total_M\n",
    "\n",
    "# lens_att[:, :2] = lens_att[:, :2] - lens_CM\n",
    "\n",
    "lens_CMs = np.zeros(shape=(L, 2))\n",
    "for i in range(1, L):\n",
    "    print(i)\n",
    "    q = lens_att[i, -1]\n",
    "    s = lens_att[i, 0]\n",
    "\n",
    "    lens_CMs[i, 0] = q * s / (1 + q)\n",
    "\n",
    "print(lens_att)\n",
    "print(lens_CMs)"
   ]
  },
  {
   "cell_type": "code",
   "execution_count": null,
   "metadata": {},
   "outputs": [],
   "source": [
    "def calc_size_caustic(i, q, s):\n",
    "    '''\n",
    "    Calculating the size of the central caustic.\n",
    "    '''\n",
    "    cos_phi_c = 3/4 * (s + s**-1) * (1 - np.sqrt(1 - 32/9*(s + s**-1)**-2))\n",
    "    print('cos(phi_c):', cos_phi_c)\n",
    "    phi_c = np.arccos(cos_phi_c)\n",
    "    print('phi_c:', phi_c)\n",
    "\n",
    "    height = 4*q / (s - s**-1)**2\n",
    "\n",
    "    width = height * ((s - s**-1)**2 * np.abs(np.sin(phi_c)**3)) / (s + s**-1 - 2 * cos_phi_c)**2\n",
    "\n",
    "    x_pos = q / ((1 + s)*(1 + s**-1)) - lens_CMs[i+1, 0]\n",
    "    x_neg = -q / ((1 - s)*(1 - s**-1)) - lens_CMs[i+1, 0]\n",
    "\n",
    "    print('xi_c,0+:', x_pos)\n",
    "    print('xi_c,0-:', x_neg)\n",
    "\n",
    "    y_pos = (2*q * np.abs(np.sin(phi_c)**3)) / (s + s**-1 - 2*cos_phi_c)**2 - lens_CMs[i+1, 1]\n",
    "    y_neg = -(2*q * np.abs(np.sin(phi_c)**3)) / (s + s**-1 - 2*cos_phi_c)**2 - lens_CMs[i+1, 1]\n",
    "\n",
    "    return width, height, [x_neg, x_pos, y_pos*np.tan(phi_c - np.pi/2), y_neg, y_pos]"
   ]
  },
  {
   "cell_type": "code",
   "execution_count": 12,
   "metadata": {},
   "outputs": [],
   "source": [
    "def calc_mm_points(i, lens_att):\n",
    "    # Finding which index the bigger mass was passed in (primary lens)\n",
    "    big_mass = np.where(lens_att[:, 3] == np.max(lens_att[:, 3]))[0][0]\n",
    "\n",
    "    # Secondary lens\n",
    "    small_mass = int(not big_mass)\n",
    "\n",
    "    # Defining unit source vector\n",
    "    uhat = [1, 0]\n",
    "\n",
    "    # Defining unit binary axis vector (from primary to secondary lens)\n",
    "    v = [lens_att[small_mass, 0] - lens_att[big_mass, 0], lens_att[small_mass, 1] - lens_att[big_mass, 1]]\n",
    "    vhat = v / np.linalg.norm(v)\n",
    "\n",
    "    # Finding counterclockwise angle between binary axis and source trajectory (alpha)\n",
    "    if vhat[0] > 0 and vhat[1] > 0:\n",
    "        alpha = np.arctan(vhat[1]/vhat[0])\n",
    "    elif vhat[0] < 0 and vhat[1] > 0:\n",
    "        alpha = np.pi + np.arctan(vhat[1]/vhat[0])\n",
    "    elif vhat[0] < 0 and vhat[1] < 0:\n",
    "        alpha = np.pi + np.arctan(vhat[1]/vhat[0])\n",
    "    elif vhat[0] > 0 and vhat[1] < 0:\n",
    "        alpha = np.arctan(vhat[1]/vhat[0])\n",
    "    elif vhat[0] > 0 and vhat[1] == 0:\n",
    "        alpha = 0\n",
    "    elif vhat[0] == 0 and vhat[1] > 0:\n",
    "        alpha = np.pi/2\n",
    "    elif vhat[0] < 0 and vhat[1] == 0:\n",
    "        alpha = np.pi\n",
    "    elif vhat[0] == 0 and vhat[1] < 0:\n",
    "        alpha = -np.pi/2\n",
    "\n",
    "    # Calculating distance between lenses (s)\n",
    "    s = np.linalg.norm(v)\n",
    "\n",
    "    # Calculating mass ratio between lenses (q)\n",
    "    q = lens_att[small_mass, 3] / lens_att[big_mass, 3]\n",
    "\n",
    "    # Initializing MulensModel Caustics class\n",
    "    model = mm.Caustics(q=q, s=s)\n",
    "\n",
    "    # Initializing parameter dictionary\n",
    "    param_dict = {'q': q, 's': s, 'alpha': alpha}\n",
    "\n",
    "    # Retrieving x and y points of caustics\n",
    "    caustic_points = np.array(model.get_caustics(n_points=5000)).transpose()\n",
    "\n",
    "    # Creating rotation matrix (to rotate caustic points into correct binary axis)\n",
    "    cos, sin = np.cos(alpha), np.sin(alpha)\n",
    "    Rot = np.array([[cos, -sin], [sin, cos]])\n",
    "\n",
    "    # Initializing array of rotated caustic points (2x5000)\n",
    "    rotated_caustic_points = np.zeros(shape=np.shape(caustic_points))\n",
    "\n",
    "    # Calculating dot product of rotation matrix and each position calculated by MulensModel\n",
    "    for ii, pos in enumerate(caustic_points):\n",
    "        rotated_caustic_points[ii] = np.dot(Rot, pos)\n",
    "\n",
    "    # Extracting array of x and array of y values\n",
    "    mm_x = rotated_caustic_points.transpose()[0]\n",
    "    mm_y = rotated_caustic_points.transpose()[1]\n",
    "\n",
    "    width, height, cusp_points = calc_size_caustic(i, q, s)\n",
    "\n",
    "    return mm_x, mm_y, alpha, width, height, cusp_points"
   ]
  },
  {
   "cell_type": "code",
   "execution_count": 16,
   "metadata": {},
   "outputs": [
    {
     "name": "stdout",
     "output_type": "stream",
     "text": [
      "cos(phi_c): 0.522539713033926\n",
      "phi_c: 1.0209693518160388\n",
      "xi_c,0+: -0.0001955187669473384\n",
      "xi_c,0-: 0.0007115107115107117\n"
     ]
    },
    {
     "data": {
      "image/png": "[encoded data removed]",
      "text/plain": [
       "<Figure size 1000x800 with 1 Axes>"
      ]
     },
     "metadata": {},
     "output_type": "display_data"
    }
   ],
   "source": [
    "mm_x_list = np.zeros((5000, len(lens_att) - 1))\n",
    "mm_y_list = np.zeros((5000, len(lens_att) - 1))\n",
    "alphas = np.zeros(len(lens_att) - 1)\n",
    "rectangle_list = []\n",
    "cusp_points_x_list = []\n",
    "cusp_points_y_list = []\n",
    "\n",
    "default_colors = plt.rcParams['axes.prop_cycle'].by_key()['color']\n",
    "\n",
    "fig = plt.figure(figsize=(10, 8))\n",
    "ax = fig.add_subplot()\n",
    "\n",
    "for i, lens in enumerate(lens_att[1:]):\n",
    "    two_lenses = np.array([lens_att[0], lens])\n",
    "    mm_x_list[:, i], mm_y_list[:, i], alphas[i], width, height, cusp_points = calc_mm_points(i, two_lenses)\n",
    "    \n",
    "    cusp_points_x_list.append([cusp_points[0], cusp_points[1], cusp_points[2], cusp_points[2]])\n",
    "    cusp_points_y_list.append([0, 0, cusp_points[3], cusp_points[4]])\n",
    "\n",
    "    bounding_box = patches.Rectangle((-width/2, -height/2), width, height, facecolor='none', edgecolor=default_colors[i], angle=np.rad2deg(alphas[i]), rotation_point=(0, 0))\n",
    "\n",
    "    rectangle_list.append(bounding_box)\n",
    "\n",
    "for i, rectangle in enumerate(rectangle_list):\n",
    "    ax.scatter(mm_x_list[:, i], mm_y_list[:, i], s=0.01, alpha=1, c=default_colors[i])\n",
    "    ax.scatter(cusp_points_x_list[i], cusp_points_y_list[i], s=10, c='red')\n",
    "    ax.add_patch(rectangle)\n",
    "\n",
    "bound = 0.005\n",
    "ax.set_xlim(-bound, bound)\n",
    "ax.set_ylim(-bound, bound)\n",
    "ax.set_aspect('equal')\n",
    "\n",
    "plt.show()"
   ]
  },
  {
   "cell_type": "code",
   "execution_count": null,
   "metadata": {},
   "outputs": [],
   "source": []
  }
 ],
 "metadata": {
  "kernelspec": {
   "display_name": ".venv",
   "language": "python",
   "name": "python3"
  },
  "language_info": {
   "codemirror_mode": {
    "name": "ipython",
    "version": 3
   },
   "file_extension": ".py",
   "mimetype": "text/x-python",
   "name": "python",
   "nbconvert_exporter": "python",
   "pygments_lexer": "ipython3",
   "version": "3.10.0"
  }
 },
 "nbformat": 4,
 "nbformat_minor": 2
}
