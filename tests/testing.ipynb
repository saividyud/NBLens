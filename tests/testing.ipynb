{
 "cells": [
  {
   "cell_type": "code",
   "execution_count": 3,
   "metadata": {},
   "outputs": [],
   "source": [
    "def whole_param_checker(passed_params):\n",
    "    pixels, ang_width, ang_res, pixel_density = passed_params.get('pixels'), passed_params.get('ang_width'), passed_params.get('ang_res'), passed_params.get('pixel_density')\n",
    "\n",
    "    if pixels != None and ang_width != None:\n",
    "        ang_res = ang_width / pixels\n",
    "        pixel_density = 1 / ang_res\n",
    "    elif pixels != None and ang_res != None:\n",
    "        ang_width = pixels * ang_res\n",
    "        pixel_density = 1 / ang_res\n",
    "    elif pixels != None and pixel_density != None:\n",
    "        ang_res = 1 / pixel_density\n",
    "        ang_width = pixels * ang_res\n",
    "    elif ang_width != None and ang_res != None:\n",
    "        pixels = ang_width / ang_res\n",
    "        pixel_density = 1 / ang_res\n",
    "    elif ang_width != None and pixel_density != None:\n",
    "        ang_res = 1 / pixel_density\n",
    "        pixels = ang_width / ang_res\n",
    "\n",
    "    full_params = {}\n",
    "    full_params.update(passed_params)\n",
    "    full_params.update({'pixels': pixels, 'ang_width': ang_width, 'ang_res': ang_res, 'pixel_density': pixel_density})\n",
    "\n",
    "    return full_params"
   ]
  },
  {
   "cell_type": "code",
   "execution_count": 4,
   "metadata": {},
   "outputs": [
    {
     "name": "stdout",
     "output_type": "stream",
     "text": [
      "{'pixels': 1000, 'ang_width': 5, 'rays_per_pixel': 4, 'lens_att': [[0.5, 0, 0.01, 1], [-0.5, 0, 0.01, 1]], 'ang_res': 0.005, 'pixel_density': 200.0}\n"
     ]
    }
   ],
   "source": [
    "passed_params = {'pixels': 1000,\n",
    "    'ang_width': 5,\n",
    "    'rays_per_pixel': 4,\n",
    "    'lens_att': [\n",
    "        [0.5, 0, 0.01, 1],\n",
    "        [-0.5, 0, 0.01, 1]\n",
    "    ]\n",
    "}\n",
    "\n",
    "full_params = whole_param_checker(passed_params)\n",
    "\n",
    "print(full_params)"
   ]
  },
  {
   "cell_type": "code",
   "execution_count": null,
   "metadata": {},
   "outputs": [],
   "source": []
  }
 ],
 "metadata": {
  "kernelspec": {
   "display_name": ".venv",
   "language": "python",
   "name": "python3"
  },
  "language_info": {
   "codemirror_mode": {
    "name": "ipython",
    "version": 3
   },
   "file_extension": ".py",
   "mimetype": "text/x-python",
   "name": "python",
   "nbconvert_exporter": "python",
   "pygments_lexer": "ipython3",
   "version": "3.10.0"
  }
 },
 "nbformat": 4,
 "nbformat_minor": 2
}
